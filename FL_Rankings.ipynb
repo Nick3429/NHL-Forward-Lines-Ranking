{
 "cells": [
  {
   "cell_type": "code",
   "execution_count": 3,
   "metadata": {},
   "outputs": [],
   "source": [
    "import pandas as pd\n",
    "import numpy as np\n",
    "from sklearn.model_selection import train_test_split\n",
    "import hockey_rink\n",
    "import hockey_scraper"
   ]
  },
  {
   "cell_type": "markdown",
   "metadata": {},
   "source": [
    "Gonna get familiar with hockey_scraper, never used it until now. Scraping the schedule between 2023-09-01 and 2024-08-31. Should be 1,312 NHL games in a season."
   ]
  },
  {
   "cell_type": "code",
   "execution_count": null,
   "metadata": {},
   "outputs": [],
   "source": [
    "hockey_scraper.scrape_seasons([2023,2024], True)"
   ]
  },
  {
   "cell_type": "markdown",
   "metadata": {},
   "source": [
    "Noe have shift data for the nhl 2023-24 season as well as the play by play data (pbp) in separate csv files. Interested in the pbp data so going to load that in"
   ]
  },
  {
   "cell_type": "code",
   "execution_count": null,
   "metadata": {},
   "outputs": [],
   "source": [
    "pbp=pd.read_csv(\"nhl_pbp_20232024.csv\")"
   ]
  },
  {
   "cell_type": "code",
   "execution_count": 12,
   "metadata": {},
   "outputs": [
    {
     "name": "stdout",
     "output_type": "stream",
     "text": [
      "<class 'pandas.core.frame.DataFrame'>\n",
      "RangeIndex: 445637 entries, 0 to 445636\n",
      "Data columns (total 57 columns):\n",
      " #   Column           Non-Null Count   Dtype  \n",
      "---  ------           --------------   -----  \n",
      " 0   Unnamed: 0       445637 non-null  int64  \n",
      " 1   Game_Id          445637 non-null  int64  \n",
      " 2   Date             445637 non-null  object \n",
      " 3   Period           445637 non-null  int64  \n",
      " 4   Event            445637 non-null  object \n",
      " 5   Description      445637 non-null  object \n",
      " 6   Time_Elapsed     445637 non-null  object \n",
      " 7   Seconds_Elapsed  445637 non-null  float64\n",
      " 8   Strength         445637 non-null  object \n",
      " 9   Ev_Zone          369193 non-null  object \n",
      " 10  Type             180765 non-null  object \n",
      " 11  Ev_Team          369085 non-null  object \n",
      " 12  Home_Zone        369193 non-null  object \n",
      " 13  Away_Team        445637 non-null  object \n",
      " 14  Home_Team        445637 non-null  object \n",
      " 15  p1_name          369011 non-null  object \n",
      " 16  p1_ID            360845 non-null  float64\n",
      " 17  p2_name          207835 non-null  object \n",
      " 18  p2_ID            203669 non-null  float64\n",
      " 19  p3_name          6812 non-null    object \n",
      " 20  p3_ID            6654 non-null    float64\n",
      " 21  awayPlayer1      442024 non-null  object \n",
      " 22  awayPlayer1_id   435638 non-null  float64\n",
      " 23  awayPlayer2      441202 non-null  object \n",
      " 24  awayPlayer2_id   428709 non-null  float64\n",
      " 25  awayPlayer3      441143 non-null  object \n",
      " 26  awayPlayer3_id   432721 non-null  float64\n",
      " 27  awayPlayer4      441093 non-null  object \n",
      " 28  awayPlayer4_id   428521 non-null  float64\n",
      " 29  awayPlayer5      436720 non-null  object \n",
      " 30  awayPlayer5_id   428015 non-null  float64\n",
      " 31  awayPlayer6      399062 non-null  object \n",
      " 32  awayPlayer6_id   398442 non-null  float64\n",
      " 33  homePlayer1      441975 non-null  object \n",
      " 34  homePlayer1_id   435073 non-null  float64\n",
      " 35  homePlayer2      441150 non-null  object \n",
      " 36  homePlayer2_id   428521 non-null  float64\n",
      " 37  homePlayer3      441098 non-null  object \n",
      " 38  homePlayer3_id   433178 non-null  float64\n",
      " 39  homePlayer4      441055 non-null  object \n",
      " 40  homePlayer4_id   427602 non-null  float64\n",
      " 41  homePlayer5      437062 non-null  object \n",
      " 42  homePlayer5_id   427754 non-null  float64\n",
      " 43  homePlayer6      401360 non-null  object \n",
      " 44  homePlayer6_id   400569 non-null  float64\n",
      " 45  Away_Players     445637 non-null  int64  \n",
      " 46  Home_Players     445637 non-null  int64  \n",
      " 47  Away_Score       445637 non-null  int64  \n",
      " 48  Home_Score       445637 non-null  int64  \n",
      " 49  Away_Goalie      435802 non-null  object \n",
      " 50  Away_Goalie_Id   435203 non-null  float64\n",
      " 51  Home_Goalie      435754 non-null  object \n",
      " 52  Home_Goalie_Id   434955 non-null  float64\n",
      " 53  xC               323164 non-null  float64\n",
      " 54  yC               323164 non-null  float64\n",
      " 55  Home_Coach       445637 non-null  object \n",
      " 56  Away_Coach       445637 non-null  object \n",
      "dtypes: float64(20), int64(7), object(30)\n",
      "memory usage: 193.8+ MB\n"
     ]
    }
   ],
   "source": [
    "pbp.info()"
   ]
  },
  {
   "cell_type": "markdown",
   "metadata": {},
   "source": [
    "Alright the data is relatively raw, going to have to create most of the metrics"
   ]
  }
 ],
 "metadata": {
  "kernelspec": {
   "display_name": "penv",
   "language": "python",
   "name": "python3"
  },
  "language_info": {
   "codemirror_mode": {
    "name": "ipython",
    "version": 3
   },
   "file_extension": ".py",
   "mimetype": "text/x-python",
   "name": "python",
   "nbconvert_exporter": "python",
   "pygments_lexer": "ipython3",
   "version": "3.10.11"
  }
 },
 "nbformat": 4,
 "nbformat_minor": 2
}
