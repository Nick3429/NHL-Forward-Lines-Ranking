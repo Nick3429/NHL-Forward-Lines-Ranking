{
 "cells": [
  {
   "cell_type": "code",
   "execution_count": 3,
   "metadata": {},
   "outputs": [],
   "source": [
    "import pandas as pd\n",
    "import numpy as np\n",
    "from sklearn.model_selection import train_test_split\n",
    "import hockey_rink\n",
    "import hockey_scraper"
   ]
  },
  {
   "cell_type": "markdown",
   "metadata": {},
   "source": [
    "Gonna get familiar with hockey_scraper, never used it until now. Scraping the schedule between 2023-09-01 and 2024-08-31. Should be 1,312 NHL games in a season."
   ]
  },
  {
   "cell_type": "code",
   "execution_count": null,
   "metadata": {},
   "outputs": [],
   "source": [
    "hockey_scraper.scrape_seasons([2023,2024], True)"
   ]
  },
  {
   "cell_type": "markdown",
   "metadata": {},
   "source": [
    "Noe have shift data for the nhl 2023-24 season as well as the play by play data (pbp) in separate csv files. "
   ]
  },
  {
   "cell_type": "code",
   "execution_count": null,
   "metadata": {},
   "outputs": [],
   "source": [
    "#Loading in pbp data\n",
    "pbp=pd.read_csv(\"nhl_pbp_20232024.csv\")"
   ]
  },
  {
   "cell_type": "code",
   "execution_count": 13,
   "metadata": {},
   "outputs": [],
   "source": [
    "#Loading in shift data\n",
    "shifts=pd.read_csv(\"nhl_shifts_20232024.csv\")"
   ]
  },
  {
   "cell_type": "code",
   "execution_count": 15,
   "metadata": {},
   "outputs": [
    {
     "data": {
      "text/html": [
       "<div>\n",
       "<style scoped>\n",
       "    .dataframe tbody tr th:only-of-type {\n",
       "        vertical-align: middle;\n",
       "    }\n",
       "\n",
       "    .dataframe tbody tr th {\n",
       "        vertical-align: top;\n",
       "    }\n",
       "\n",
       "    .dataframe thead th {\n",
       "        text-align: right;\n",
       "    }\n",
       "</style>\n",
       "<table border=\"1\" class=\"dataframe\">\n",
       "  <thead>\n",
       "    <tr style=\"text-align: right;\">\n",
       "      <th></th>\n",
       "      <th>Unnamed: 0</th>\n",
       "      <th>Game_Id</th>\n",
       "      <th>Period</th>\n",
       "      <th>Team</th>\n",
       "      <th>Player</th>\n",
       "      <th>Player_Id</th>\n",
       "      <th>Start</th>\n",
       "      <th>End</th>\n",
       "      <th>Duration</th>\n",
       "      <th>Date</th>\n",
       "    </tr>\n",
       "  </thead>\n",
       "  <tbody>\n",
       "    <tr>\n",
       "      <th>0</th>\n",
       "      <td>0</td>\n",
       "      <td>20001</td>\n",
       "      <td>1</td>\n",
       "      <td>NSH</td>\n",
       "      <td>RYAN MCDONAGH</td>\n",
       "      <td>8474151.0</td>\n",
       "      <td>0.0</td>\n",
       "      <td>30.0</td>\n",
       "      <td>30.0</td>\n",
       "      <td>2023-10-10</td>\n",
       "    </tr>\n",
       "    <tr>\n",
       "      <th>1</th>\n",
       "      <td>1</td>\n",
       "      <td>20001</td>\n",
       "      <td>1</td>\n",
       "      <td>NSH</td>\n",
       "      <td>RYAN O'REILLY</td>\n",
       "      <td>8475158.0</td>\n",
       "      <td>0.0</td>\n",
       "      <td>35.0</td>\n",
       "      <td>35.0</td>\n",
       "      <td>2023-10-10</td>\n",
       "    </tr>\n",
       "    <tr>\n",
       "      <th>2</th>\n",
       "      <td>2</td>\n",
       "      <td>20001</td>\n",
       "      <td>1</td>\n",
       "      <td>T.B</td>\n",
       "      <td>VICTOR HEDMAN</td>\n",
       "      <td>8475167.0</td>\n",
       "      <td>0.0</td>\n",
       "      <td>41.0</td>\n",
       "      <td>41.0</td>\n",
       "      <td>2023-10-10</td>\n",
       "    </tr>\n",
       "    <tr>\n",
       "      <th>3</th>\n",
       "      <td>3</td>\n",
       "      <td>20001</td>\n",
       "      <td>1</td>\n",
       "      <td>NSH</td>\n",
       "      <td>FILIP FORSBERG</td>\n",
       "      <td>8476887.0</td>\n",
       "      <td>0.0</td>\n",
       "      <td>32.0</td>\n",
       "      <td>32.0</td>\n",
       "      <td>2023-10-10</td>\n",
       "    </tr>\n",
       "    <tr>\n",
       "      <th>4</th>\n",
       "      <td>4</td>\n",
       "      <td>20001</td>\n",
       "      <td>1</td>\n",
       "      <td>T.B</td>\n",
       "      <td>TYLER MOTTE</td>\n",
       "      <td>8477353.0</td>\n",
       "      <td>0.0</td>\n",
       "      <td>32.0</td>\n",
       "      <td>32.0</td>\n",
       "      <td>2023-10-10</td>\n",
       "    </tr>\n",
       "  </tbody>\n",
       "</table>\n",
       "</div>"
      ],
      "text/plain": [
       "   Unnamed: 0  Game_Id  Period Team          Player  Player_Id  Start   End  \\\n",
       "0           0    20001       1  NSH   RYAN MCDONAGH  8474151.0    0.0  30.0   \n",
       "1           1    20001       1  NSH   RYAN O'REILLY  8475158.0    0.0  35.0   \n",
       "2           2    20001       1  T.B   VICTOR HEDMAN  8475167.0    0.0  41.0   \n",
       "3           3    20001       1  NSH  FILIP FORSBERG  8476887.0    0.0  32.0   \n",
       "4           4    20001       1  T.B     TYLER MOTTE  8477353.0    0.0  32.0   \n",
       "\n",
       "   Duration        Date  \n",
       "0      30.0  2023-10-10  \n",
       "1      35.0  2023-10-10  \n",
       "2      41.0  2023-10-10  \n",
       "3      32.0  2023-10-10  \n",
       "4      32.0  2023-10-10  "
      ]
     },
     "execution_count": 15,
     "metadata": {},
     "output_type": "execute_result"
    }
   ],
   "source": [
    "shifts.head(5)"
   ]
  },
  {
   "cell_type": "code",
   "execution_count": 12,
   "metadata": {},
   "outputs": [
    {
     "name": "stdout",
     "output_type": "stream",
     "text": [
      "<class 'pandas.core.frame.DataFrame'>\n",
      "RangeIndex: 445637 entries, 0 to 445636\n",
      "Data columns (total 57 columns):\n",
      " #   Column           Non-Null Count   Dtype  \n",
      "---  ------           --------------   -----  \n",
      " 0   Unnamed: 0       445637 non-null  int64  \n",
      " 1   Game_Id          445637 non-null  int64  \n",
      " 2   Date             445637 non-null  object \n",
      " 3   Period           445637 non-null  int64  \n",
      " 4   Event            445637 non-null  object \n",
      " 5   Description      445637 non-null  object \n",
      " 6   Time_Elapsed     445637 non-null  object \n",
      " 7   Seconds_Elapsed  445637 non-null  float64\n",
      " 8   Strength         445637 non-null  object \n",
      " 9   Ev_Zone          369193 non-null  object \n",
      " 10  Type             180765 non-null  object \n",
      " 11  Ev_Team          369085 non-null  object \n",
      " 12  Home_Zone        369193 non-null  object \n",
      " 13  Away_Team        445637 non-null  object \n",
      " 14  Home_Team        445637 non-null  object \n",
      " 15  p1_name          369011 non-null  object \n",
      " 16  p1_ID            360845 non-null  float64\n",
      " 17  p2_name          207835 non-null  object \n",
      " 18  p2_ID            203669 non-null  float64\n",
      " 19  p3_name          6812 non-null    object \n",
      " 20  p3_ID            6654 non-null    float64\n",
      " 21  awayPlayer1      442024 non-null  object \n",
      " 22  awayPlayer1_id   435638 non-null  float64\n",
      " 23  awayPlayer2      441202 non-null  object \n",
      " 24  awayPlayer2_id   428709 non-null  float64\n",
      " 25  awayPlayer3      441143 non-null  object \n",
      " 26  awayPlayer3_id   432721 non-null  float64\n",
      " 27  awayPlayer4      441093 non-null  object \n",
      " 28  awayPlayer4_id   428521 non-null  float64\n",
      " 29  awayPlayer5      436720 non-null  object \n",
      " 30  awayPlayer5_id   428015 non-null  float64\n",
      " 31  awayPlayer6      399062 non-null  object \n",
      " 32  awayPlayer6_id   398442 non-null  float64\n",
      " 33  homePlayer1      441975 non-null  object \n",
      " 34  homePlayer1_id   435073 non-null  float64\n",
      " 35  homePlayer2      441150 non-null  object \n",
      " 36  homePlayer2_id   428521 non-null  float64\n",
      " 37  homePlayer3      441098 non-null  object \n",
      " 38  homePlayer3_id   433178 non-null  float64\n",
      " 39  homePlayer4      441055 non-null  object \n",
      " 40  homePlayer4_id   427602 non-null  float64\n",
      " 41  homePlayer5      437062 non-null  object \n",
      " 42  homePlayer5_id   427754 non-null  float64\n",
      " 43  homePlayer6      401360 non-null  object \n",
      " 44  homePlayer6_id   400569 non-null  float64\n",
      " 45  Away_Players     445637 non-null  int64  \n",
      " 46  Home_Players     445637 non-null  int64  \n",
      " 47  Away_Score       445637 non-null  int64  \n",
      " 48  Home_Score       445637 non-null  int64  \n",
      " 49  Away_Goalie      435802 non-null  object \n",
      " 50  Away_Goalie_Id   435203 non-null  float64\n",
      " 51  Home_Goalie      435754 non-null  object \n",
      " 52  Home_Goalie_Id   434955 non-null  float64\n",
      " 53  xC               323164 non-null  float64\n",
      " 54  yC               323164 non-null  float64\n",
      " 55  Home_Coach       445637 non-null  object \n",
      " 56  Away_Coach       445637 non-null  object \n",
      "dtypes: float64(20), int64(7), object(30)\n",
      "memory usage: 193.8+ MB\n"
     ]
    }
   ],
   "source": [
    "pbp.info()"
   ]
  },
  {
   "cell_type": "markdown",
   "metadata": {},
   "source": [
    "Definitely do not need many of these variables so going to drop a bunch of them"
   ]
  },
  {
   "cell_type": "code",
   "execution_count": 18,
   "metadata": {},
   "outputs": [],
   "source": [
    "pbp=pbp.drop(['Away_Coach','Home_Coach','Home_Goalie_Id','Home_Goalie','Away_Goalie_Id','Away_Goalie'], axis=1)"
   ]
  },
  {
   "cell_type": "code",
   "execution_count": 20,
   "metadata": {},
   "outputs": [],
   "source": [
    "pbp.drop(['Unnamed: 0'], axis=1, inplace=True)"
   ]
  },
  {
   "cell_type": "code",
   "execution_count": 23,
   "metadata": {},
   "outputs": [
    {
     "data": {
      "text/html": [
       "<div>\n",
       "<style scoped>\n",
       "    .dataframe tbody tr th:only-of-type {\n",
       "        vertical-align: middle;\n",
       "    }\n",
       "\n",
       "    .dataframe tbody tr th {\n",
       "        vertical-align: top;\n",
       "    }\n",
       "\n",
       "    .dataframe thead th {\n",
       "        text-align: right;\n",
       "    }\n",
       "</style>\n",
       "<table border=\"1\" class=\"dataframe\">\n",
       "  <thead>\n",
       "    <tr style=\"text-align: right;\">\n",
       "      <th></th>\n",
       "      <th>awayPlayer1</th>\n",
       "      <th>awayPlayer2</th>\n",
       "      <th>awayPlayer3</th>\n",
       "      <th>awayPlayer4</th>\n",
       "      <th>awayPlayer5</th>\n",
       "      <th>awayPlayer6</th>\n",
       "    </tr>\n",
       "  </thead>\n",
       "  <tbody>\n",
       "    <tr>\n",
       "      <th>0</th>\n",
       "      <td>JUUSO PARSSINEN</td>\n",
       "      <td>RYAN O'REILLY</td>\n",
       "      <td>FILIP FORSBERG</td>\n",
       "      <td>RYAN MCDONAGH</td>\n",
       "      <td>ALEXANDRE CARRIER</td>\n",
       "      <td>JUUSE SAROS</td>\n",
       "    </tr>\n",
       "    <tr>\n",
       "      <th>1</th>\n",
       "      <td>JUUSO PARSSINEN</td>\n",
       "      <td>RYAN O'REILLY</td>\n",
       "      <td>FILIP FORSBERG</td>\n",
       "      <td>RYAN MCDONAGH</td>\n",
       "      <td>ALEXANDRE CARRIER</td>\n",
       "      <td>JUUSE SAROS</td>\n",
       "    </tr>\n",
       "    <tr>\n",
       "      <th>2</th>\n",
       "      <td>YAKOV TRENIN</td>\n",
       "      <td>RYAN O'REILLY</td>\n",
       "      <td>COLE SMITH</td>\n",
       "      <td>LUKE SCHENN</td>\n",
       "      <td>ROMAN JOSI</td>\n",
       "      <td>JUUSE SAROS</td>\n",
       "    </tr>\n",
       "    <tr>\n",
       "      <th>3</th>\n",
       "      <td>COLTON SISSONS</td>\n",
       "      <td>YAKOV TRENIN</td>\n",
       "      <td>COLE SMITH</td>\n",
       "      <td>LUKE SCHENN</td>\n",
       "      <td>ROMAN JOSI</td>\n",
       "      <td>JUUSE SAROS</td>\n",
       "    </tr>\n",
       "    <tr>\n",
       "      <th>4</th>\n",
       "      <td>COLTON SISSONS</td>\n",
       "      <td>YAKOV TRENIN</td>\n",
       "      <td>COLE SMITH</td>\n",
       "      <td>LUKE SCHENN</td>\n",
       "      <td>ROMAN JOSI</td>\n",
       "      <td>JUUSE SAROS</td>\n",
       "    </tr>\n",
       "    <tr>\n",
       "      <th>5</th>\n",
       "      <td>COLTON SISSONS</td>\n",
       "      <td>YAKOV TRENIN</td>\n",
       "      <td>COLE SMITH</td>\n",
       "      <td>LUKE SCHENN</td>\n",
       "      <td>ROMAN JOSI</td>\n",
       "      <td>JUUSE SAROS</td>\n",
       "    </tr>\n",
       "    <tr>\n",
       "      <th>6</th>\n",
       "      <td>COLTON SISSONS</td>\n",
       "      <td>YAKOV TRENIN</td>\n",
       "      <td>COLE SMITH</td>\n",
       "      <td>LUKE SCHENN</td>\n",
       "      <td>ROMAN JOSI</td>\n",
       "      <td>JUUSE SAROS</td>\n",
       "    </tr>\n",
       "    <tr>\n",
       "      <th>7</th>\n",
       "      <td>COLTON SISSONS</td>\n",
       "      <td>YAKOV TRENIN</td>\n",
       "      <td>COLE SMITH</td>\n",
       "      <td>LUKE SCHENN</td>\n",
       "      <td>ROMAN JOSI</td>\n",
       "      <td>JUUSE SAROS</td>\n",
       "    </tr>\n",
       "    <tr>\n",
       "      <th>8</th>\n",
       "      <td>CODY GLASS</td>\n",
       "      <td>GUSTAV NYQUIST</td>\n",
       "      <td>KIEFER SHERWOOD</td>\n",
       "      <td>JEREMY LAUZON</td>\n",
       "      <td>TYSON BARRIE</td>\n",
       "      <td>JUUSE SAROS</td>\n",
       "    </tr>\n",
       "    <tr>\n",
       "      <th>9</th>\n",
       "      <td>CODY GLASS</td>\n",
       "      <td>GUSTAV NYQUIST</td>\n",
       "      <td>KIEFER SHERWOOD</td>\n",
       "      <td>JEREMY LAUZON</td>\n",
       "      <td>TYSON BARRIE</td>\n",
       "      <td>JUUSE SAROS</td>\n",
       "    </tr>\n",
       "  </tbody>\n",
       "</table>\n",
       "</div>"
      ],
      "text/plain": [
       "       awayPlayer1     awayPlayer2      awayPlayer3    awayPlayer4  \\\n",
       "0  JUUSO PARSSINEN   RYAN O'REILLY   FILIP FORSBERG  RYAN MCDONAGH   \n",
       "1  JUUSO PARSSINEN   RYAN O'REILLY   FILIP FORSBERG  RYAN MCDONAGH   \n",
       "2     YAKOV TRENIN   RYAN O'REILLY       COLE SMITH    LUKE SCHENN   \n",
       "3   COLTON SISSONS    YAKOV TRENIN       COLE SMITH    LUKE SCHENN   \n",
       "4   COLTON SISSONS    YAKOV TRENIN       COLE SMITH    LUKE SCHENN   \n",
       "5   COLTON SISSONS    YAKOV TRENIN       COLE SMITH    LUKE SCHENN   \n",
       "6   COLTON SISSONS    YAKOV TRENIN       COLE SMITH    LUKE SCHENN   \n",
       "7   COLTON SISSONS    YAKOV TRENIN       COLE SMITH    LUKE SCHENN   \n",
       "8       CODY GLASS  GUSTAV NYQUIST  KIEFER SHERWOOD  JEREMY LAUZON   \n",
       "9       CODY GLASS  GUSTAV NYQUIST  KIEFER SHERWOOD  JEREMY LAUZON   \n",
       "\n",
       "         awayPlayer5  awayPlayer6  \n",
       "0  ALEXANDRE CARRIER  JUUSE SAROS  \n",
       "1  ALEXANDRE CARRIER  JUUSE SAROS  \n",
       "2         ROMAN JOSI  JUUSE SAROS  \n",
       "3         ROMAN JOSI  JUUSE SAROS  \n",
       "4         ROMAN JOSI  JUUSE SAROS  \n",
       "5         ROMAN JOSI  JUUSE SAROS  \n",
       "6         ROMAN JOSI  JUUSE SAROS  \n",
       "7         ROMAN JOSI  JUUSE SAROS  \n",
       "8       TYSON BARRIE  JUUSE SAROS  \n",
       "9       TYSON BARRIE  JUUSE SAROS  "
      ]
     },
     "execution_count": 23,
     "metadata": {},
     "output_type": "execute_result"
    }
   ],
   "source": [
    "pbp[['awayPlayer1','awayPlayer2', 'awayPlayer3','awayPlayer4','awayPlayer5','awayPlayer6']].head(10)"
   ]
  },
  {
   "cell_type": "markdown",
   "metadata": {},
   "source": [
    "Alright looks like players 1,2, and 3 are the forwards. 4 and 5 are the defensemen and 6 is the goalie, So i only need players 1-3"
   ]
  },
  {
   "cell_type": "code",
   "execution_count": 25,
   "metadata": {},
   "outputs": [],
   "source": [
    "pbp=pbp.drop(['awayPlayer4','awayPlayer4_id','awayPlayer5','awayPlayer5_id','awayPlayer6','awayPlayer6_id','homePlayer4','homePlayer4_id','homePlayer5','homePlayer5_id','homePlayer6','homePlayer6_id'], axis=1)"
   ]
  },
  {
   "cell_type": "markdown",
   "metadata": {},
   "source": [
    "Got rid of a ton of columns not needed. All columns now should be useful"
   ]
  },
  {
   "cell_type": "code",
   "execution_count": 31,
   "metadata": {},
   "outputs": [
    {
     "data": {
      "text/plain": [
       "Index(['Game_Id', 'Date', 'Period', 'Event', 'Description', 'Time_Elapsed',\n",
       "       'Seconds_Elapsed', 'Strength', 'Ev_Zone', 'Type', 'Ev_Team',\n",
       "       'Home_Zone', 'Away_Team', 'Home_Team', 'p1_name', 'p1_ID', 'p2_name',\n",
       "       'p2_ID', 'p3_name', 'p3_ID', 'awayPlayer1', 'awayPlayer1_id',\n",
       "       'awayPlayer2', 'awayPlayer2_id', 'awayPlayer3', 'awayPlayer3_id',\n",
       "       'homePlayer1', 'homePlayer1_id', 'homePlayer2', 'homePlayer2_id',\n",
       "       'homePlayer3', 'homePlayer3_id', 'Away_Players', 'Home_Players',\n",
       "       'Away_Score', 'Home_Score', 'xC', 'yC'],\n",
       "      dtype='object')"
      ]
     },
     "execution_count": 31,
     "metadata": {},
     "output_type": "execute_result"
    }
   ],
   "source": [
    "pbp.columns"
   ]
  },
  {
   "cell_type": "markdown",
   "metadata": {},
   "source": [
    "Alright, now that we got rid of a good number of columns we don't need, let's think about the problem at hand. I want to evaluate who are the best 20 forward lines in the nhl. How should I accomplish this? I think the best way from a hollistic standpoint is expected goals %. Expected Goals % is the percent of all expected goals the player's team gets while the player is on the ice compared to the other team. For example, if a player's team gets 0.6 expected goals and the opposing team gets 0.4 expected goals while the player is on the ice, the player's expected goals % is 60%. "
   ]
  },
  {
   "cell_type": "markdown",
   "metadata": {},
   "source": [
    "On MoneyPuck, an xGoals% of above 60% gets a forward line inside the top 10 (Limiting to lines who played 200 minutes or more together).An xGoals% of 50% and above gets a FL inside the top 60 lines. \n",
    "\n",
    "I also want to look at each lines expected goals against and their expected goals for, rather than the percentage of expected goal they own. An expected goals for of 28 or above gets you in the top 10, and an xG For of 20 gets you inside the top 25. \n",
    "\n",
    "For xG against, 8.5 or less gets you inside the top 10, 11 or less gets you inside the top 25. \n",
    "\n",
    "By looking at these xG for and xG against rather than xG%, I can get the best offensive forward lines and the best defensive lines."
   ]
  },
  {
   "cell_type": "markdown",
   "metadata": {},
   "source": [
    "Thus, at the very end of this project my goal is to have 3 different rankings:\n",
    "1) The best 15 lines in hockey (using xG%)\n",
    "2) The best 15 offensive lines in hockey (using xG For)\n",
    "3) The best 15 defensive lines in hockey (using xG Against)"
   ]
  }
 ],
 "metadata": {
  "kernelspec": {
   "display_name": "penv",
   "language": "python",
   "name": "python3"
  },
  "language_info": {
   "codemirror_mode": {
    "name": "ipython",
    "version": 3
   },
   "file_extension": ".py",
   "mimetype": "text/x-python",
   "name": "python",
   "nbconvert_exporter": "python",
   "pygments_lexer": "ipython3",
   "version": "3.10.11"
  }
 },
 "nbformat": 4,
 "nbformat_minor": 2
}
