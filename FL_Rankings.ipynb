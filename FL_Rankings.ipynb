{
 "cells": [
  {
   "cell_type": "code",
   "execution_count": 362,
   "metadata": {},
   "outputs": [],
   "source": [
    "import pandas as pd\n",
    "import numpy as np\n",
    "from sklearn.model_selection import train_test_split\n",
    "import hockey_rink\n",
    "import hockey_scraper\n",
    "import xgboost as xgb\n",
    "from sklearn.metrics import accuracy_score, roc_auc_score\n",
    "import seaborn as sns\n",
    "import matplotlib.pyplot as plt\n",
    "import numpy as np\n",
    "import math"
   ]
  },
  {
   "cell_type": "markdown",
   "metadata": {},
   "source": [
    "Gonna get familiar with hockey_scraper, never used it until now. Scraping the schedule between 2023-09-01 and 2024-08-31. Should be 1,312 NHL games in a season."
   ]
  },
  {
   "cell_type": "code",
   "execution_count": null,
   "metadata": {},
   "outputs": [],
   "source": [
    "hockey_scraper.scrape_seasons([2023,2024], True)"
   ]
  },
  {
   "cell_type": "markdown",
   "metadata": {},
   "source": [
    "Noe have shift data for the nhl 2023-24 season as well as the play by play data (pbp) in separate csv files. "
   ]
  },
  {
   "cell_type": "code",
   "execution_count": 363,
   "metadata": {},
   "outputs": [],
   "source": [
    "#Loading in pbp data\n",
    "pbp=pd.read_csv(\"nhl_pbp_20232024.csv\")"
   ]
  },
  {
   "cell_type": "markdown",
   "metadata": {},
   "source": [
    "How many rows in our dataframe total?\n",
    "-445,637 rows before we do any type of manipulation or cleaning\n",
    "-After dropping rows that contain na values for x and y locations, we have 323,164 rows\n",
    "-"
   ]
  },
  {
   "cell_type": "code",
   "execution_count": 364,
   "metadata": {},
   "outputs": [
    {
     "name": "stdout",
     "output_type": "stream",
     "text": [
      "<class 'pandas.core.frame.DataFrame'>\n",
      "RangeIndex: 445637 entries, 0 to 445636\n",
      "Data columns (total 57 columns):\n",
      " #   Column           Non-Null Count   Dtype  \n",
      "---  ------           --------------   -----  \n",
      " 0   Unnamed: 0       445637 non-null  int64  \n",
      " 1   Game_Id          445637 non-null  int64  \n",
      " 2   Date             445637 non-null  object \n",
      " 3   Period           445637 non-null  int64  \n",
      " 4   Event            445637 non-null  object \n",
      " 5   Description      445637 non-null  object \n",
      " 6   Time_Elapsed     445637 non-null  object \n",
      " 7   Seconds_Elapsed  445637 non-null  float64\n",
      " 8   Strength         445637 non-null  object \n",
      " 9   Ev_Zone          369193 non-null  object \n",
      " 10  Type             180765 non-null  object \n",
      " 11  Ev_Team          369085 non-null  object \n",
      " 12  Home_Zone        369193 non-null  object \n",
      " 13  Away_Team        445637 non-null  object \n",
      " 14  Home_Team        445637 non-null  object \n",
      " 15  p1_name          369011 non-null  object \n",
      " 16  p1_ID            360845 non-null  float64\n",
      " 17  p2_name          207835 non-null  object \n",
      " 18  p2_ID            203669 non-null  float64\n",
      " 19  p3_name          6812 non-null    object \n",
      " 20  p3_ID            6654 non-null    float64\n",
      " 21  awayPlayer1      442024 non-null  object \n",
      " 22  awayPlayer1_id   435638 non-null  float64\n",
      " 23  awayPlayer2      441202 non-null  object \n",
      " 24  awayPlayer2_id   428709 non-null  float64\n",
      " 25  awayPlayer3      441143 non-null  object \n",
      " 26  awayPlayer3_id   432721 non-null  float64\n",
      " 27  awayPlayer4      441093 non-null  object \n",
      " 28  awayPlayer4_id   428521 non-null  float64\n",
      " 29  awayPlayer5      436720 non-null  object \n",
      " 30  awayPlayer5_id   428015 non-null  float64\n",
      " 31  awayPlayer6      399062 non-null  object \n",
      " 32  awayPlayer6_id   398442 non-null  float64\n",
      " 33  homePlayer1      441975 non-null  object \n",
      " 34  homePlayer1_id   435073 non-null  float64\n",
      " 35  homePlayer2      441150 non-null  object \n",
      " 36  homePlayer2_id   428521 non-null  float64\n",
      " 37  homePlayer3      441098 non-null  object \n",
      " 38  homePlayer3_id   433178 non-null  float64\n",
      " 39  homePlayer4      441055 non-null  object \n",
      " 40  homePlayer4_id   427602 non-null  float64\n",
      " 41  homePlayer5      437062 non-null  object \n",
      " 42  homePlayer5_id   427754 non-null  float64\n",
      " 43  homePlayer6      401360 non-null  object \n",
      " 44  homePlayer6_id   400569 non-null  float64\n",
      " 45  Away_Players     445637 non-null  int64  \n",
      " 46  Home_Players     445637 non-null  int64  \n",
      " 47  Away_Score       445637 non-null  int64  \n",
      " 48  Home_Score       445637 non-null  int64  \n",
      " 49  Away_Goalie      435802 non-null  object \n",
      " 50  Away_Goalie_Id   435203 non-null  float64\n",
      " 51  Home_Goalie      435754 non-null  object \n",
      " 52  Home_Goalie_Id   434955 non-null  float64\n",
      " 53  xC               323164 non-null  float64\n",
      " 54  yC               323164 non-null  float64\n",
      " 55  Home_Coach       445637 non-null  object \n",
      " 56  Away_Coach       445637 non-null  object \n",
      "dtypes: float64(20), int64(7), object(30)\n",
      "memory usage: 193.8+ MB\n"
     ]
    }
   ],
   "source": [
    "pbp.info()\n",
    "#445,637 events worth of data"
   ]
  },
  {
   "cell_type": "code",
   "execution_count": 365,
   "metadata": {},
   "outputs": [
    {
     "name": "stdout",
     "output_type": "stream",
     "text": [
      "<class 'pandas.core.frame.DataFrame'>\n",
      "Index: 323164 entries, 1 to 445636\n",
      "Data columns (total 57 columns):\n",
      " #   Column           Non-Null Count   Dtype  \n",
      "---  ------           --------------   -----  \n",
      " 0   Unnamed: 0       323164 non-null  int64  \n",
      " 1   Game_Id          323164 non-null  int64  \n",
      " 2   Date             323164 non-null  object \n",
      " 3   Period           323164 non-null  int64  \n",
      " 4   Event            323164 non-null  object \n",
      " 5   Description      323164 non-null  object \n",
      " 6   Time_Elapsed     323164 non-null  object \n",
      " 7   Seconds_Elapsed  323164 non-null  float64\n",
      " 8   Strength         323164 non-null  object \n",
      " 9   Ev_Zone          270144 non-null  object \n",
      " 10  Type             139605 non-null  object \n",
      " 11  Ev_Team          270069 non-null  object \n",
      " 12  Home_Zone        270144 non-null  object \n",
      " 13  Away_Team        323164 non-null  object \n",
      " 14  Home_Team        323164 non-null  object \n",
      " 15  p1_name          270001 non-null  object \n",
      " 16  p1_ID            263648 non-null  float64\n",
      " 17  p2_name          145390 non-null  object \n",
      " 18  p2_ID            142442 non-null  float64\n",
      " 19  p3_name          5823 non-null    object \n",
      " 20  p3_ID            5685 non-null    float64\n",
      " 21  awayPlayer1      320324 non-null  object \n",
      " 22  awayPlayer1_id   315519 non-null  float64\n",
      " 23  awayPlayer2      319587 non-null  object \n",
      " 24  awayPlayer2_id   310771 non-null  float64\n",
      " 25  awayPlayer3      319535 non-null  object \n",
      " 26  awayPlayer3_id   313392 non-null  float64\n",
      " 27  awayPlayer4      319496 non-null  object \n",
      " 28  awayPlayer4_id   310338 non-null  float64\n",
      " 29  awayPlayer5      315872 non-null  object \n",
      " 30  awayPlayer5_id   309431 non-null  float64\n",
      " 31  awayPlayer6      288120 non-null  object \n",
      " 32  awayPlayer6_id   287609 non-null  float64\n",
      " 33  homePlayer1      320284 non-null  object \n",
      " 34  homePlayer1_id   314849 non-null  float64\n",
      " 35  homePlayer2      319545 non-null  object \n",
      " 36  homePlayer2_id   310584 non-null  float64\n",
      " 37  homePlayer3      319498 non-null  object \n",
      " 38  homePlayer3_id   313916 non-null  float64\n",
      " 39  homePlayer4      319470 non-null  object \n",
      " 40  homePlayer4_id   310014 non-null  float64\n",
      " 41  homePlayer5      316117 non-null  object \n",
      " 42  homePlayer5_id   309638 non-null  float64\n",
      " 43  homePlayer6      289560 non-null  object \n",
      " 44  homePlayer6_id   289085 non-null  float64\n",
      " 45  Away_Players     323164 non-null  int64  \n",
      " 46  Home_Players     323164 non-null  int64  \n",
      " 47  Away_Score       323164 non-null  int64  \n",
      " 48  Home_Score       323164 non-null  int64  \n",
      " 49  Away_Goalie      315177 non-null  object \n",
      " 50  Away_Goalie_Id   314679 non-null  float64\n",
      " 51  Home_Goalie      315123 non-null  object \n",
      " 52  Home_Goalie_Id   314650 non-null  float64\n",
      " 53  xC               323164 non-null  float64\n",
      " 54  yC               323164 non-null  float64\n",
      " 55  Home_Coach       323164 non-null  object \n",
      " 56  Away_Coach       323164 non-null  object \n",
      "dtypes: float64(20), int64(7), object(30)\n",
      "memory usage: 143.0+ MB\n"
     ]
    }
   ],
   "source": [
    "# Drop rows where xC or yC is NaN\n",
    "pbp = pbp.dropna(subset=['xC', 'yC'])\n",
    "pbp.info()"
   ]
  },
  {
   "cell_type": "code",
   "execution_count": 38,
   "metadata": {},
   "outputs": [],
   "source": [
    "#Loading in shift data\n",
    "shifts=pd.read_csv(\"nhl_shifts_20232024.csv\")"
   ]
  },
  {
   "cell_type": "markdown",
   "metadata": {},
   "source": [
    "Step 2: Data Cleansing"
   ]
  },
  {
   "cell_type": "markdown",
   "metadata": {},
   "source": [
    "Definitely do not need many of these variables so going to drop a bunch of them"
   ]
  },
  {
   "cell_type": "code",
   "execution_count": 366,
   "metadata": {},
   "outputs": [
    {
     "data": {
      "text/html": [
       "<div>\n",
       "<style scoped>\n",
       "    .dataframe tbody tr th:only-of-type {\n",
       "        vertical-align: middle;\n",
       "    }\n",
       "\n",
       "    .dataframe tbody tr th {\n",
       "        vertical-align: top;\n",
       "    }\n",
       "\n",
       "    .dataframe thead th {\n",
       "        text-align: right;\n",
       "    }\n",
       "</style>\n",
       "<table border=\"1\" class=\"dataframe\">\n",
       "  <thead>\n",
       "    <tr style=\"text-align: right;\">\n",
       "      <th></th>\n",
       "      <th>awayPlayer1</th>\n",
       "      <th>awayPlayer2</th>\n",
       "      <th>awayPlayer3</th>\n",
       "      <th>awayPlayer4</th>\n",
       "      <th>awayPlayer5</th>\n",
       "      <th>awayPlayer6</th>\n",
       "    </tr>\n",
       "  </thead>\n",
       "  <tbody>\n",
       "    <tr>\n",
       "      <th>1</th>\n",
       "      <td>JUUSO PARSSINEN</td>\n",
       "      <td>RYAN O'REILLY</td>\n",
       "      <td>FILIP FORSBERG</td>\n",
       "      <td>RYAN MCDONAGH</td>\n",
       "      <td>ALEXANDRE CARRIER</td>\n",
       "      <td>JUUSE SAROS</td>\n",
       "    </tr>\n",
       "    <tr>\n",
       "      <th>2</th>\n",
       "      <td>YAKOV TRENIN</td>\n",
       "      <td>RYAN O'REILLY</td>\n",
       "      <td>COLE SMITH</td>\n",
       "      <td>LUKE SCHENN</td>\n",
       "      <td>ROMAN JOSI</td>\n",
       "      <td>JUUSE SAROS</td>\n",
       "    </tr>\n",
       "    <tr>\n",
       "      <th>4</th>\n",
       "      <td>COLTON SISSONS</td>\n",
       "      <td>YAKOV TRENIN</td>\n",
       "      <td>COLE SMITH</td>\n",
       "      <td>LUKE SCHENN</td>\n",
       "      <td>ROMAN JOSI</td>\n",
       "      <td>JUUSE SAROS</td>\n",
       "    </tr>\n",
       "    <tr>\n",
       "      <th>5</th>\n",
       "      <td>COLTON SISSONS</td>\n",
       "      <td>YAKOV TRENIN</td>\n",
       "      <td>COLE SMITH</td>\n",
       "      <td>LUKE SCHENN</td>\n",
       "      <td>ROMAN JOSI</td>\n",
       "      <td>JUUSE SAROS</td>\n",
       "    </tr>\n",
       "    <tr>\n",
       "      <th>6</th>\n",
       "      <td>COLTON SISSONS</td>\n",
       "      <td>YAKOV TRENIN</td>\n",
       "      <td>COLE SMITH</td>\n",
       "      <td>LUKE SCHENN</td>\n",
       "      <td>ROMAN JOSI</td>\n",
       "      <td>JUUSE SAROS</td>\n",
       "    </tr>\n",
       "    <tr>\n",
       "      <th>7</th>\n",
       "      <td>COLTON SISSONS</td>\n",
       "      <td>YAKOV TRENIN</td>\n",
       "      <td>COLE SMITH</td>\n",
       "      <td>LUKE SCHENN</td>\n",
       "      <td>ROMAN JOSI</td>\n",
       "      <td>JUUSE SAROS</td>\n",
       "    </tr>\n",
       "    <tr>\n",
       "      <th>8</th>\n",
       "      <td>CODY GLASS</td>\n",
       "      <td>GUSTAV NYQUIST</td>\n",
       "      <td>KIEFER SHERWOOD</td>\n",
       "      <td>JEREMY LAUZON</td>\n",
       "      <td>TYSON BARRIE</td>\n",
       "      <td>JUUSE SAROS</td>\n",
       "    </tr>\n",
       "    <tr>\n",
       "      <th>9</th>\n",
       "      <td>CODY GLASS</td>\n",
       "      <td>GUSTAV NYQUIST</td>\n",
       "      <td>KIEFER SHERWOOD</td>\n",
       "      <td>JEREMY LAUZON</td>\n",
       "      <td>TYSON BARRIE</td>\n",
       "      <td>JUUSE SAROS</td>\n",
       "    </tr>\n",
       "    <tr>\n",
       "      <th>10</th>\n",
       "      <td>CODY GLASS</td>\n",
       "      <td>GUSTAV NYQUIST</td>\n",
       "      <td>KIEFER SHERWOOD</td>\n",
       "      <td>JEREMY LAUZON</td>\n",
       "      <td>TYSON BARRIE</td>\n",
       "      <td>JUUSE SAROS</td>\n",
       "    </tr>\n",
       "    <tr>\n",
       "      <th>11</th>\n",
       "      <td>CODY GLASS</td>\n",
       "      <td>GUSTAV NYQUIST</td>\n",
       "      <td>KIEFER SHERWOOD</td>\n",
       "      <td>JEREMY LAUZON</td>\n",
       "      <td>TYSON BARRIE</td>\n",
       "      <td>JUUSE SAROS</td>\n",
       "    </tr>\n",
       "  </tbody>\n",
       "</table>\n",
       "</div>"
      ],
      "text/plain": [
       "        awayPlayer1     awayPlayer2      awayPlayer3    awayPlayer4  \\\n",
       "1   JUUSO PARSSINEN   RYAN O'REILLY   FILIP FORSBERG  RYAN MCDONAGH   \n",
       "2      YAKOV TRENIN   RYAN O'REILLY       COLE SMITH    LUKE SCHENN   \n",
       "4    COLTON SISSONS    YAKOV TRENIN       COLE SMITH    LUKE SCHENN   \n",
       "5    COLTON SISSONS    YAKOV TRENIN       COLE SMITH    LUKE SCHENN   \n",
       "6    COLTON SISSONS    YAKOV TRENIN       COLE SMITH    LUKE SCHENN   \n",
       "7    COLTON SISSONS    YAKOV TRENIN       COLE SMITH    LUKE SCHENN   \n",
       "8        CODY GLASS  GUSTAV NYQUIST  KIEFER SHERWOOD  JEREMY LAUZON   \n",
       "9        CODY GLASS  GUSTAV NYQUIST  KIEFER SHERWOOD  JEREMY LAUZON   \n",
       "10       CODY GLASS  GUSTAV NYQUIST  KIEFER SHERWOOD  JEREMY LAUZON   \n",
       "11       CODY GLASS  GUSTAV NYQUIST  KIEFER SHERWOOD  JEREMY LAUZON   \n",
       "\n",
       "          awayPlayer5  awayPlayer6  \n",
       "1   ALEXANDRE CARRIER  JUUSE SAROS  \n",
       "2          ROMAN JOSI  JUUSE SAROS  \n",
       "4          ROMAN JOSI  JUUSE SAROS  \n",
       "5          ROMAN JOSI  JUUSE SAROS  \n",
       "6          ROMAN JOSI  JUUSE SAROS  \n",
       "7          ROMAN JOSI  JUUSE SAROS  \n",
       "8        TYSON BARRIE  JUUSE SAROS  \n",
       "9        TYSON BARRIE  JUUSE SAROS  \n",
       "10       TYSON BARRIE  JUUSE SAROS  \n",
       "11       TYSON BARRIE  JUUSE SAROS  "
      ]
     },
     "execution_count": 366,
     "metadata": {},
     "output_type": "execute_result"
    }
   ],
   "source": [
    "pbp[['awayPlayer1','awayPlayer2', 'awayPlayer3','awayPlayer4','awayPlayer5','awayPlayer6']].head(10)"
   ]
  },
  {
   "cell_type": "markdown",
   "metadata": {},
   "source": [
    "Alright looks like players 1,2, and 3 are the forwards. 4 and 5 are the defensemen and 6 is the goalie, So i only need players 1-3"
   ]
  },
  {
   "cell_type": "code",
   "execution_count": 367,
   "metadata": {},
   "outputs": [],
   "source": [
    "pbp=pbp.drop(['Away_Coach','Home_Coach','Home_Goalie_Id','Home_Goalie','Away_Goalie_Id','Away_Goalie', 'Unnamed: 0','awayPlayer4','awayPlayer4_id','awayPlayer5','awayPlayer5_id','awayPlayer6','awayPlayer6_id','homePlayer4','homePlayer4_id','homePlayer5','homePlayer5_id','homePlayer6','homePlayer6_id'], axis=1)"
   ]
  },
  {
   "cell_type": "code",
   "execution_count": 368,
   "metadata": {},
   "outputs": [
    {
     "data": {
      "text/plain": [
       "Type\n",
       "WRIST SHOT                              77163\n",
       "SNAP SHOT                               18419\n",
       "SLAP SHOT                               16066\n",
       "TIP-IN                                   9190\n",
       "BACKHAND                                 8148\n",
       "                                        ...  \n",
       "AR #77 DEANGELO Slashing(2 min)             1\n",
       "OS #61 MAROON High-sticking(2 min)          1\n",
       "AL #3 TANEV Delay Game(2 min)               1\n",
       "AL #3 TANEV High-sticking(2 min)            1\n",
       "YR #96 ROSLOVIC High-sticking(2 min)        1\n",
       "Name: count, Length: 204, dtype: int64"
      ]
     },
     "execution_count": 368,
     "metadata": {},
     "output_type": "execute_result"
    }
   ],
   "source": [
    "pbp.Type.value_counts()"
   ]
  },
  {
   "cell_type": "markdown",
   "metadata": {},
   "source": [
    "Got rid of a ton of columns not needed. All columns now should be useful"
   ]
  },
  {
   "cell_type": "code",
   "execution_count": 369,
   "metadata": {},
   "outputs": [
    {
     "data": {
      "text/plain": [
       "Index(['Game_Id', 'Date', 'Period', 'Event', 'Description', 'Time_Elapsed',\n",
       "       'Seconds_Elapsed', 'Strength', 'Ev_Zone', 'Type', 'Ev_Team',\n",
       "       'Home_Zone', 'Away_Team', 'Home_Team', 'p1_name', 'p1_ID', 'p2_name',\n",
       "       'p2_ID', 'p3_name', 'p3_ID', 'awayPlayer1', 'awayPlayer1_id',\n",
       "       'awayPlayer2', 'awayPlayer2_id', 'awayPlayer3', 'awayPlayer3_id',\n",
       "       'homePlayer1', 'homePlayer1_id', 'homePlayer2', 'homePlayer2_id',\n",
       "       'homePlayer3', 'homePlayer3_id', 'Away_Players', 'Home_Players',\n",
       "       'Away_Score', 'Home_Score', 'xC', 'yC'],\n",
       "      dtype='object')"
      ]
     },
     "execution_count": 369,
     "metadata": {},
     "output_type": "execute_result"
    }
   ],
   "source": [
    "pbp.columns"
   ]
  },
  {
   "cell_type": "markdown",
   "metadata": {},
   "source": [
    "Variables we want, many of which need to be modified or created:\n",
    "\n",
    "    1)xC (modified) (Done)\n",
    "\n",
    "    2)yC (Modified) (Done)\n",
    "\n",
    "    3)Type (modified) (Done)\n",
    "\n",
    "    4)shotDistance (Create)\n",
    "\n",
    "    5)shotAngle (Create)\n",
    "\n",
    "    6)timeSinceLastEvent (Create) (Done)\n",
    "\n",
    "    7)distanceFromLastEvent (Create) (Have to calculate before transposing the x and y coordinates, cuz what if back to back shots happen between the two teams?) (Done)\n",
    "\n",
    "    8)PowerPlay (Create) (Done)\n",
    "\n",
    "    9) Goal (Create) - TARGET VARIABLE (Done)\n",
    "\n",
    "-Date needs to be last of reg season, not last of entire season including playoffs"
   ]
  },
  {
   "cell_type": "markdown",
   "metadata": {},
   "source": [
    "Calculating the distanceFromLastEvent prior to transposing x and y coordinates"
   ]
  },
  {
   "cell_type": "code",
   "execution_count": 370,
   "metadata": {},
   "outputs": [],
   "source": [
    "# Calculate the difference in x and y coordinates between consecutive events\n",
    "pbp['x_diff'] = pbp['xC'].diff()\n",
    "pbp['y_diff'] = pbp['yC'].diff()\n",
    "\n",
    "# Calculate the Euclidean distance between consecutive events\n",
    "pbp['distanceFromLastEvent'] = np.sqrt(pbp['x_diff']**2 + pbp['y_diff']**2)\n",
    "\n",
    "# Fill NaN values that may result from the first row\n",
    "pbp['distanceFromLastEvent'] = pbp['distanceFromLastEvent'].fillna(0)\n",
    "\n",
    "# Optionally, drop the intermediate x_diff and y_diff columns if no longer needed\n",
    "pbp = pbp.drop(columns=['x_diff', 'y_diff'])"
   ]
  },
  {
   "cell_type": "markdown",
   "metadata": {},
   "source": [
    "Making all shots occur on the right side of the rink, modifying the xC and yC"
   ]
  },
  {
   "cell_type": "code",
   "execution_count": 371,
   "metadata": {},
   "outputs": [],
   "source": [
    "#First making all shots appear on the positive (right side of the rink)\n",
    "pbp['xC']=np.where(pbp['xC']<0, pbp['xC']*-1, pbp['xC'])\n",
    "pbp['yC']=np.where(pbp['xC']<0, pbp['yC']*-1, pbp['yC'])"
   ]
  },
  {
   "cell_type": "markdown",
   "metadata": {},
   "source": [
    "Making new column for PowerPlay, 1 means yes there is a pp and 0 means no pp"
   ]
  },
  {
   "cell_type": "code",
   "execution_count": 372,
   "metadata": {},
   "outputs": [],
   "source": [
    "# Make a new column for whether or not its a power play goal. \n",
    "pbp['Power Play'] = np.where( ((pbp.Ev_Team.equals(pbp.Home_Team)) & (pbp.Strength.str[0] > pbp.Strength.str[2])) | ((pbp.Ev_Team.equals(pbp.Away_Team)) & (pbp.Strength.str[0] < pbp.Strength.str[2])), 1, 0)"
   ]
  },
  {
   "cell_type": "markdown",
   "metadata": {},
   "source": [
    "Getting time since last event (Right now have seconds elapsed, which is just time elapsed from period. So to get time elapsed since last event, Just have to subtract seconds elased on previous row/event from the current row/event)"
   ]
  },
  {
   "cell_type": "code",
   "execution_count": 373,
   "metadata": {},
   "outputs": [],
   "source": [
    "pbp['timeSinceLastEvent']= pbp['Seconds_Elapsed'].diff()\n",
    "pbp['timeSinceLastEvent'] = pbp['timeSinceLastEvent'].fillna(0)\n"
   ]
  },
  {
   "cell_type": "markdown",
   "metadata": {},
   "source": [
    "Make the each shot type into individual binary value columns using one hot encoding (Then keeping the columns created that represents shots only: WRIST SHOT,SNAP SHOT,SLAP SHOT,TIP-IN,BACKHAND, Done at the very end of data cleaning)"
   ]
  },
  {
   "cell_type": "code",
   "execution_count": 374,
   "metadata": {},
   "outputs": [
    {
     "name": "stdout",
     "output_type": "stream",
     "text": [
      "object\n"
     ]
    }
   ],
   "source": [
    "dtype = pbp['Type'].dtype\n",
    "print(dtype)"
   ]
  },
  {
   "cell_type": "code",
   "execution_count": 375,
   "metadata": {},
   "outputs": [
    {
     "data": {
      "text/plain": [
       "Type\n",
       "WRIST SHOT                              77163\n",
       "SNAP SHOT                               18419\n",
       "SLAP SHOT                               16066\n",
       "TIP-IN                                   9190\n",
       "BACKHAND                                 8148\n",
       "                                        ...  \n",
       "AR #77 DEANGELO Slashing(2 min)             1\n",
       "OS #61 MAROON High-sticking(2 min)          1\n",
       "AL #3 TANEV Delay Game(2 min)               1\n",
       "AL #3 TANEV High-sticking(2 min)            1\n",
       "YR #96 ROSLOVIC High-sticking(2 min)        1\n",
       "Name: count, Length: 204, dtype: int64"
      ]
     },
     "execution_count": 375,
     "metadata": {},
     "output_type": "execute_result"
    }
   ],
   "source": [
    "pbp['Type'].value_counts()"
   ]
  },
  {
   "cell_type": "markdown",
   "metadata": {},
   "source": [
    "Im going to keep only the values of type above not any other crazy ones. I am also going to convert to string."
   ]
  },
  {
   "cell_type": "code",
   "execution_count": 376,
   "metadata": {},
   "outputs": [],
   "source": [
    "pbp['Type'] = pbp['Type'].astype(str)\n",
    "pbp=pbp[(pbp['Type']=='WRIST SHOT') | (pbp['Type']=='SNAP SHOT') | (pbp['Type']=='SLAP SHOT') | (pbp['Type']=='TIP-IN') | (pbp['Type']=='BACKHAND') | (pbp['Type']=='DEFLECTED') | (pbp['Type']=='WRAP-AROUND') ]"
   ]
  },
  {
   "cell_type": "code",
   "execution_count": 377,
   "metadata": {},
   "outputs": [
    {
     "data": {
      "text/plain": [
       "Type\n",
       "WRIST SHOT     77163\n",
       "SNAP SHOT      18419\n",
       "SLAP SHOT      16066\n",
       "TIP-IN          9190\n",
       "BACKHAND        8148\n",
       "DEFLECTED       2074\n",
       "WRAP-AROUND      919\n",
       "Name: count, dtype: int64"
      ]
     },
     "execution_count": 377,
     "metadata": {},
     "output_type": "execute_result"
    }
   ],
   "source": [
    "#checking \n",
    "pbp['Type'].value_counts()"
   ]
  },
  {
   "cell_type": "code",
   "execution_count": 378,
   "metadata": {},
   "outputs": [],
   "source": [
    "# Ensure the Type column is clean (e.g., no leading/trailing spaces)\n",
    "pbp['Type'] = pbp['Type'].str.strip()\n",
    "\n",
    "# Identify unique categories\n",
    "unique_types = pbp['Type'].unique()\n",
    "\n",
    "# Manually one-hot encode\n",
    "for shot_type in unique_types:\n",
    "    pbp[shot_type] = (pbp['Type'] == shot_type).astype(int)"
   ]
  },
  {
   "cell_type": "markdown",
   "metadata": {},
   "source": [
    "Code below for ohe not working, trying the above approach instead"
   ]
  },
  {
   "cell_type": "code",
   "execution_count": 344,
   "metadata": {},
   "outputs": [],
   "source": [
    "# #First step load in one hot encoder from the sklearn.preprocessing library\n",
    "# from sklearn.preprocessing import OneHotEncoder\n",
    "# # Ensure there are no NaNs in the 'Type' column\n",
    "# pbp = pbp.dropna(subset=['Type'])\n",
    "# #Second step is to initialize OneHotEncoder\n",
    "# ohe=OneHotEncoder(sparse_output=False, drop='first')\n",
    "# #Third step is to fit and transform\n",
    "# pbp_ohe=ohe.fit_transform(pbp[['Type']])\n",
    "# #Fourth step is to conver the output to a datafram with the appropriate column names\n",
    "# pbp_df_ohe=pd.DataFrame(pbp_ohe, columns=ohe.get_feature_names_out(['Type']))\n",
    "# #Fifth step is to combine the encoded shotType columns with the original dataframe\n",
    "# pbp=pd.concat([pbp, pbp_df_ohe], axis=1)"
   ]
  },
  {
   "cell_type": "code",
   "execution_count": 345,
   "metadata": {},
   "outputs": [
    {
     "name": "stdout",
     "output_type": "stream",
     "text": [
      "['Type_DEFLECTED' 'Type_SLAP SHOT' 'Type_SNAP SHOT' 'Type_TIP-IN'\n",
      " 'Type_WRAP-AROUND' 'Type_WRIST SHOT']\n"
     ]
    }
   ],
   "source": [
    "# print(ohe.get_feature_names_out(['Type']))"
   ]
  },
  {
   "cell_type": "code",
   "execution_count": 379,
   "metadata": {},
   "outputs": [
    {
     "data": {
      "text/plain": [
       "Index(['Game_Id', 'Date', 'Period', 'Event', 'Description', 'Time_Elapsed',\n",
       "       'Seconds_Elapsed', 'Strength', 'Ev_Zone', 'Type', 'Ev_Team',\n",
       "       'Home_Zone', 'Away_Team', 'Home_Team', 'p1_name', 'p1_ID', 'p2_name',\n",
       "       'p2_ID', 'p3_name', 'p3_ID', 'awayPlayer1', 'awayPlayer1_id',\n",
       "       'awayPlayer2', 'awayPlayer2_id', 'awayPlayer3', 'awayPlayer3_id',\n",
       "       'homePlayer1', 'homePlayer1_id', 'homePlayer2', 'homePlayer2_id',\n",
       "       'homePlayer3', 'homePlayer3_id', 'Away_Players', 'Home_Players',\n",
       "       'Away_Score', 'Home_Score', 'xC', 'yC', 'distanceFromLastEvent',\n",
       "       'Power Play', 'timeSinceLastEvent', 'WRIST SHOT', 'TIP-IN', 'SNAP SHOT',\n",
       "       'SLAP SHOT', 'BACKHAND', 'DEFLECTED', 'WRAP-AROUND'],\n",
       "      dtype='object')"
      ]
     },
     "execution_count": 379,
     "metadata": {},
     "output_type": "execute_result"
    }
   ],
   "source": [
    "#Checking columns\n",
    "pbp.columns"
   ]
  },
  {
   "cell_type": "markdown",
   "metadata": {},
   "source": [
    "Dropping shots from behind the net"
   ]
  },
  {
   "cell_type": "code",
   "execution_count": 380,
   "metadata": {},
   "outputs": [],
   "source": [
    "pbp.drop(pbp[pbp['xC'] > 89].index, inplace=True)"
   ]
  },
  {
   "cell_type": "markdown",
   "metadata": {},
   "source": [
    "Getting goals column"
   ]
  },
  {
   "cell_type": "code",
   "execution_count": 381,
   "metadata": {},
   "outputs": [],
   "source": [
    "# Add a binary column for Goals \n",
    "pbp['goal'] = np.where(pbp.Event == 'GOAL', 1, 0)"
   ]
  },
  {
   "cell_type": "code",
   "execution_count": 382,
   "metadata": {},
   "outputs": [
    {
     "data": {
      "text/plain": [
       "goal\n",
       "0    114067\n",
       "1      6846\n",
       "Name: count, dtype: int64"
      ]
     },
     "execution_count": 382,
     "metadata": {},
     "output_type": "execute_result"
    }
   ],
   "source": [
    "pbp['goal'].value_counts()"
   ]
  },
  {
   "cell_type": "code",
   "execution_count": 383,
   "metadata": {},
   "outputs": [
    {
     "data": {
      "text/plain": [
       "Event\n",
       "SHOT     59390\n",
       "BLOCK    30792\n",
       "MISS     23885\n",
       "GOAL      6846\n",
       "Name: count, dtype: int64"
      ]
     },
     "execution_count": 383,
     "metadata": {},
     "output_type": "execute_result"
    }
   ],
   "source": [
    "pbp['Event'].value_counts()"
   ]
  },
  {
   "cell_type": "markdown",
   "metadata": {},
   "source": [
    "We can drop all rows where event is not equal to shot or goal because we already calculated the distance from last event and the time since last event which were the variables that needed to have every event in the dataframe. "
   ]
  },
  {
   "cell_type": "code",
   "execution_count": 384,
   "metadata": {},
   "outputs": [],
   "source": [
    "pbp=pbp[(pbp['Event']=='SHOT') | (pbp['Event']=='GOAL') | (pbp['Event']=='MISS')]"
   ]
  },
  {
   "cell_type": "code",
   "execution_count": 385,
   "metadata": {},
   "outputs": [
    {
     "data": {
      "text/html": [
       "<div>\n",
       "<style scoped>\n",
       "    .dataframe tbody tr th:only-of-type {\n",
       "        vertical-align: middle;\n",
       "    }\n",
       "\n",
       "    .dataframe tbody tr th {\n",
       "        vertical-align: top;\n",
       "    }\n",
       "\n",
       "    .dataframe thead th {\n",
       "        text-align: right;\n",
       "    }\n",
       "</style>\n",
       "<table border=\"1\" class=\"dataframe\">\n",
       "  <thead>\n",
       "    <tr style=\"text-align: right;\">\n",
       "      <th></th>\n",
       "      <th>Ev_Zone</th>\n",
       "      <th>Ev_Team</th>\n",
       "      <th>Home_Team</th>\n",
       "      <th>Away_Team</th>\n",
       "      <th>Event</th>\n",
       "      <th>awayPlayer1</th>\n",
       "      <th>awayPlayer2</th>\n",
       "      <th>awayPlayer3</th>\n",
       "      <th>homePlayer1</th>\n",
       "      <th>homePlayer2</th>\n",
       "      <th>homePlayer3</th>\n",
       "      <th>Description</th>\n",
       "      <th>Strength</th>\n",
       "      <th>Seconds_Elapsed</th>\n",
       "      <th>timeSinceLastEvent</th>\n",
       "      <th>goal</th>\n",
       "      <th>distanceFromLastEvent</th>\n",
       "      <th>Power Play</th>\n",
       "      <th>xC</th>\n",
       "      <th>yC</th>\n",
       "    </tr>\n",
       "  </thead>\n",
       "  <tbody>\n",
       "    <tr>\n",
       "      <th>6</th>\n",
       "      <td>Off</td>\n",
       "      <td>T.B</td>\n",
       "      <td>T.B</td>\n",
       "      <td>NSH</td>\n",
       "      <td>SHOT</td>\n",
       "      <td>COLTON SISSONS</td>\n",
       "      <td>YAKOV TRENIN</td>\n",
       "      <td>COLE SMITH</td>\n",
       "      <td>BRAYDEN POINT</td>\n",
       "      <td>STEVEN STAMKOS</td>\n",
       "      <td>NIKITA KUCHEROV</td>\n",
       "      <td>TBL ONGOAL - #43 RADDYSH, Wrist , Off. Zone, 3...</td>\n",
       "      <td>5x5</td>\n",
       "      <td>61.0</td>\n",
       "      <td>3.0</td>\n",
       "      <td>0</td>\n",
       "      <td>26.019224</td>\n",
       "      <td>0</td>\n",
       "      <td>44.0</td>\n",
       "      <td>-38.0</td>\n",
       "    </tr>\n",
       "    <tr>\n",
       "      <th>40</th>\n",
       "      <td>Off</td>\n",
       "      <td>T.B</td>\n",
       "      <td>T.B</td>\n",
       "      <td>NSH</td>\n",
       "      <td>SHOT</td>\n",
       "      <td>PHILIP TOMASINO</td>\n",
       "      <td>RYAN O'REILLY</td>\n",
       "      <td>LUKE EVANGELISTA</td>\n",
       "      <td>BRAYDEN POINT</td>\n",
       "      <td>STEVEN STAMKOS</td>\n",
       "      <td>NIKITA KUCHEROV</td>\n",
       "      <td>TBL ONGOAL - #77 HEDMAN, Wrist , Off. Zone, 63...</td>\n",
       "      <td>5x5</td>\n",
       "      <td>564.0</td>\n",
       "      <td>4.0</td>\n",
       "      <td>0</td>\n",
       "      <td>56.142675</td>\n",
       "      <td>0</td>\n",
       "      <td>55.0</td>\n",
       "      <td>30.0</td>\n",
       "    </tr>\n",
       "    <tr>\n",
       "      <th>41</th>\n",
       "      <td>Off</td>\n",
       "      <td>T.B</td>\n",
       "      <td>T.B</td>\n",
       "      <td>NSH</td>\n",
       "      <td>GOAL</td>\n",
       "      <td>JUUSO PARSSINEN</td>\n",
       "      <td>RYAN O'REILLY</td>\n",
       "      <td>FILIP FORSBERG</td>\n",
       "      <td>BRAYDEN POINT</td>\n",
       "      <td>STEVEN STAMKOS</td>\n",
       "      <td>NIKITA KUCHEROV</td>\n",
       "      <td>TBL #86 KUCHEROV(1), Slap , Off. Zone, 42 ft.A...</td>\n",
       "      <td>5x5</td>\n",
       "      <td>588.0</td>\n",
       "      <td>24.0</td>\n",
       "      <td>1</td>\n",
       "      <td>119.067208</td>\n",
       "      <td>0</td>\n",
       "      <td>64.0</td>\n",
       "      <td>34.0</td>\n",
       "    </tr>\n",
       "    <tr>\n",
       "      <th>44</th>\n",
       "      <td>Neu</td>\n",
       "      <td>T.B</td>\n",
       "      <td>T.B</td>\n",
       "      <td>NSH</td>\n",
       "      <td>MISS</td>\n",
       "      <td>JUUSO PARSSINEN</td>\n",
       "      <td>RYAN O'REILLY</td>\n",
       "      <td>FILIP FORSBERG</td>\n",
       "      <td>TYLER MOTTE</td>\n",
       "      <td>ANTHONY CIRELLI</td>\n",
       "      <td>BRANDON HAGEL</td>\n",
       "      <td>TBL #64 MOTTE, Wrist, Wide Right, Neu. Zone, 8...</td>\n",
       "      <td>5x5</td>\n",
       "      <td>603.0</td>\n",
       "      <td>15.0</td>\n",
       "      <td>0</td>\n",
       "      <td>72.422372</td>\n",
       "      <td>0</td>\n",
       "      <td>69.0</td>\n",
       "      <td>22.0</td>\n",
       "    </tr>\n",
       "    <tr>\n",
       "      <th>47</th>\n",
       "      <td>Off</td>\n",
       "      <td>T.B</td>\n",
       "      <td>T.B</td>\n",
       "      <td>NSH</td>\n",
       "      <td>SHOT</td>\n",
       "      <td>COLTON SISSONS</td>\n",
       "      <td>YAKOV TRENIN</td>\n",
       "      <td>COLE SMITH</td>\n",
       "      <td>LUKE GLENDENING</td>\n",
       "      <td>WALTTERI MERELA</td>\n",
       "      <td>TANNER JEANNOT</td>\n",
       "      <td>TBL ONGOAL - #81 CERNAK, Snap , Off. Zone, 62 ...</td>\n",
       "      <td>5x5</td>\n",
       "      <td>615.0</td>\n",
       "      <td>9.0</td>\n",
       "      <td>0</td>\n",
       "      <td>50.009999</td>\n",
       "      <td>0</td>\n",
       "      <td>79.0</td>\n",
       "      <td>-27.0</td>\n",
       "    </tr>\n",
       "    <tr>\n",
       "      <th>49</th>\n",
       "      <td>Off</td>\n",
       "      <td>T.B</td>\n",
       "      <td>T.B</td>\n",
       "      <td>NSH</td>\n",
       "      <td>SHOT</td>\n",
       "      <td>COLTON SISSONS</td>\n",
       "      <td>YAKOV TRENIN</td>\n",
       "      <td>COLE SMITH</td>\n",
       "      <td>LUKE GLENDENING</td>\n",
       "      <td>WALTTERI MERELA</td>\n",
       "      <td>TANNER JEANNOT</td>\n",
       "      <td>TBL ONGOAL - #11 GLENDENING, Wrist , Off. Zone...</td>\n",
       "      <td>5x5</td>\n",
       "      <td>637.0</td>\n",
       "      <td>19.0</td>\n",
       "      <td>0</td>\n",
       "      <td>68.883960</td>\n",
       "      <td>0</td>\n",
       "      <td>31.0</td>\n",
       "      <td>30.0</td>\n",
       "    </tr>\n",
       "    <tr>\n",
       "      <th>53</th>\n",
       "      <td>Off</td>\n",
       "      <td>T.B</td>\n",
       "      <td>T.B</td>\n",
       "      <td>NSH</td>\n",
       "      <td>SHOT</td>\n",
       "      <td>CODY GLASS</td>\n",
       "      <td>GUSTAV NYQUIST</td>\n",
       "      <td>KIEFER SHERWOOD</td>\n",
       "      <td>BRAYDEN POINT</td>\n",
       "      <td>STEVEN STAMKOS</td>\n",
       "      <td>NIKITA KUCHEROV</td>\n",
       "      <td>TBL ONGOAL - #21 POINT, Wrist , Off. Zone, 15 ...</td>\n",
       "      <td>5x5</td>\n",
       "      <td>662.0</td>\n",
       "      <td>10.0</td>\n",
       "      <td>0</td>\n",
       "      <td>21.095023</td>\n",
       "      <td>0</td>\n",
       "      <td>69.0</td>\n",
       "      <td>-22.0</td>\n",
       "    </tr>\n",
       "    <tr>\n",
       "      <th>57</th>\n",
       "      <td>Off</td>\n",
       "      <td>T.B</td>\n",
       "      <td>T.B</td>\n",
       "      <td>NSH</td>\n",
       "      <td>SHOT</td>\n",
       "      <td>CODY GLASS</td>\n",
       "      <td>PHILIP TOMASINO</td>\n",
       "      <td>KIEFER SHERWOOD</td>\n",
       "      <td>MICHAEL EYSSIMONT</td>\n",
       "      <td>NICHOLAS PAUL</td>\n",
       "      <td>CONOR SHEARY</td>\n",
       "      <td>TBL ONGOAL - #77 HEDMAN, Wrist , Off. Zone, 54...</td>\n",
       "      <td>5x5</td>\n",
       "      <td>693.0</td>\n",
       "      <td>23.0</td>\n",
       "      <td>0</td>\n",
       "      <td>77.278716</td>\n",
       "      <td>0</td>\n",
       "      <td>7.0</td>\n",
       "      <td>-36.0</td>\n",
       "    </tr>\n",
       "    <tr>\n",
       "      <th>61</th>\n",
       "      <td>Off</td>\n",
       "      <td>T.B</td>\n",
       "      <td>T.B</td>\n",
       "      <td>NSH</td>\n",
       "      <td>SHOT</td>\n",
       "      <td>JUUSO PARSSINEN</td>\n",
       "      <td>RYAN O'REILLY</td>\n",
       "      <td>FILIP FORSBERG</td>\n",
       "      <td>TYLER MOTTE</td>\n",
       "      <td>ANTHONY CIRELLI</td>\n",
       "      <td>BRANDON HAGEL</td>\n",
       "      <td>TBL ONGOAL - #38 HAGEL, Snap , Off. Zone, 30 ft.</td>\n",
       "      <td>5x5</td>\n",
       "      <td>708.0</td>\n",
       "      <td>9.0</td>\n",
       "      <td>0</td>\n",
       "      <td>108.337436</td>\n",
       "      <td>0</td>\n",
       "      <td>69.0</td>\n",
       "      <td>-22.0</td>\n",
       "    </tr>\n",
       "    <tr>\n",
       "      <th>68</th>\n",
       "      <td>Off</td>\n",
       "      <td>T.B</td>\n",
       "      <td>T.B</td>\n",
       "      <td>NSH</td>\n",
       "      <td>MISS</td>\n",
       "      <td>GUSTAV NYQUIST</td>\n",
       "      <td>PHILIP TOMASINO</td>\n",
       "      <td>JUUSO PARSSINEN</td>\n",
       "      <td>WALTTERI MERELA</td>\n",
       "      <td>NICHOLAS PAUL</td>\n",
       "      <td>CALVIN DE HAAN</td>\n",
       "      <td>TBL #20 PAUL, Snap, Wide Left, Off. Zone, 28 ft.</td>\n",
       "      <td>4x5</td>\n",
       "      <td>795.0</td>\n",
       "      <td>6.0</td>\n",
       "      <td>0</td>\n",
       "      <td>44.000000</td>\n",
       "      <td>0</td>\n",
       "      <td>69.0</td>\n",
       "      <td>-22.0</td>\n",
       "    </tr>\n",
       "  </tbody>\n",
       "</table>\n",
       "</div>"
      ],
      "text/plain": [
       "   Ev_Zone Ev_Team Home_Team Away_Team Event      awayPlayer1  \\\n",
       "6      Off     T.B       T.B       NSH  SHOT   COLTON SISSONS   \n",
       "40     Off     T.B       T.B       NSH  SHOT  PHILIP TOMASINO   \n",
       "41     Off     T.B       T.B       NSH  GOAL  JUUSO PARSSINEN   \n",
       "44     Neu     T.B       T.B       NSH  MISS  JUUSO PARSSINEN   \n",
       "47     Off     T.B       T.B       NSH  SHOT   COLTON SISSONS   \n",
       "49     Off     T.B       T.B       NSH  SHOT   COLTON SISSONS   \n",
       "53     Off     T.B       T.B       NSH  SHOT       CODY GLASS   \n",
       "57     Off     T.B       T.B       NSH  SHOT       CODY GLASS   \n",
       "61     Off     T.B       T.B       NSH  SHOT  JUUSO PARSSINEN   \n",
       "68     Off     T.B       T.B       NSH  MISS   GUSTAV NYQUIST   \n",
       "\n",
       "        awayPlayer2       awayPlayer3        homePlayer1      homePlayer2  \\\n",
       "6      YAKOV TRENIN        COLE SMITH      BRAYDEN POINT   STEVEN STAMKOS   \n",
       "40    RYAN O'REILLY  LUKE EVANGELISTA      BRAYDEN POINT   STEVEN STAMKOS   \n",
       "41    RYAN O'REILLY    FILIP FORSBERG      BRAYDEN POINT   STEVEN STAMKOS   \n",
       "44    RYAN O'REILLY    FILIP FORSBERG        TYLER MOTTE  ANTHONY CIRELLI   \n",
       "47     YAKOV TRENIN        COLE SMITH    LUKE GLENDENING  WALTTERI MERELA   \n",
       "49     YAKOV TRENIN        COLE SMITH    LUKE GLENDENING  WALTTERI MERELA   \n",
       "53   GUSTAV NYQUIST   KIEFER SHERWOOD      BRAYDEN POINT   STEVEN STAMKOS   \n",
       "57  PHILIP TOMASINO   KIEFER SHERWOOD  MICHAEL EYSSIMONT    NICHOLAS PAUL   \n",
       "61    RYAN O'REILLY    FILIP FORSBERG        TYLER MOTTE  ANTHONY CIRELLI   \n",
       "68  PHILIP TOMASINO   JUUSO PARSSINEN    WALTTERI MERELA    NICHOLAS PAUL   \n",
       "\n",
       "        homePlayer3                                        Description  \\\n",
       "6   NIKITA KUCHEROV  TBL ONGOAL - #43 RADDYSH, Wrist , Off. Zone, 3...   \n",
       "40  NIKITA KUCHEROV  TBL ONGOAL - #77 HEDMAN, Wrist , Off. Zone, 63...   \n",
       "41  NIKITA KUCHEROV  TBL #86 KUCHEROV(1), Slap , Off. Zone, 42 ft.A...   \n",
       "44    BRANDON HAGEL  TBL #64 MOTTE, Wrist, Wide Right, Neu. Zone, 8...   \n",
       "47   TANNER JEANNOT  TBL ONGOAL - #81 CERNAK, Snap , Off. Zone, 62 ...   \n",
       "49   TANNER JEANNOT  TBL ONGOAL - #11 GLENDENING, Wrist , Off. Zone...   \n",
       "53  NIKITA KUCHEROV  TBL ONGOAL - #21 POINT, Wrist , Off. Zone, 15 ...   \n",
       "57     CONOR SHEARY  TBL ONGOAL - #77 HEDMAN, Wrist , Off. Zone, 54...   \n",
       "61    BRANDON HAGEL  TBL ONGOAL - #38 HAGEL, Snap , Off. Zone, 30 ft.    \n",
       "68   CALVIN DE HAAN  TBL #20 PAUL, Snap, Wide Left, Off. Zone, 28 ft.    \n",
       "\n",
       "   Strength  Seconds_Elapsed  timeSinceLastEvent  goal  distanceFromLastEvent  \\\n",
       "6       5x5             61.0                 3.0     0              26.019224   \n",
       "40      5x5            564.0                 4.0     0              56.142675   \n",
       "41      5x5            588.0                24.0     1             119.067208   \n",
       "44      5x5            603.0                15.0     0              72.422372   \n",
       "47      5x5            615.0                 9.0     0              50.009999   \n",
       "49      5x5            637.0                19.0     0              68.883960   \n",
       "53      5x5            662.0                10.0     0              21.095023   \n",
       "57      5x5            693.0                23.0     0              77.278716   \n",
       "61      5x5            708.0                 9.0     0             108.337436   \n",
       "68      4x5            795.0                 6.0     0              44.000000   \n",
       "\n",
       "    Power Play    xC    yC  \n",
       "6            0  44.0 -38.0  \n",
       "40           0  55.0  30.0  \n",
       "41           0  64.0  34.0  \n",
       "44           0  69.0  22.0  \n",
       "47           0  79.0 -27.0  \n",
       "49           0  31.0  30.0  \n",
       "53           0  69.0 -22.0  \n",
       "57           0   7.0 -36.0  \n",
       "61           0  69.0 -22.0  \n",
       "68           0  69.0 -22.0  "
      ]
     },
     "execution_count": 385,
     "metadata": {},
     "output_type": "execute_result"
    }
   ],
   "source": [
    "#Seeing the pbp dataframe\n",
    "pbp[['Ev_Zone','Ev_Team','Home_Team','Away_Team','Event', 'awayPlayer1','awayPlayer2','awayPlayer3','homePlayer1','homePlayer2','homePlayer3','Description','Strength', 'Seconds_Elapsed', 'timeSinceLastEvent','goal','distanceFromLastEvent','Power Play','xC','yC']].head(10)"
   ]
  },
  {
   "cell_type": "markdown",
   "metadata": {},
   "source": [
    "Ok, lets get a sense on where out dataframe is at, how many rows contain na values for the x and y coordinates?"
   ]
  },
  {
   "cell_type": "code",
   "execution_count": 386,
   "metadata": {},
   "outputs": [
    {
     "name": "stdout",
     "output_type": "stream",
     "text": [
      "Number of NaN values in xC: 0\n",
      "Number of NaN values in yC: 0\n"
     ]
    }
   ],
   "source": [
    "# Count the number of NaN values in the xC and yC columns\n",
    "xC_nan_count = pbp['xC'].isna().sum()\n",
    "yC_nan_count = pbp['yC'].isna().sum()\n",
    "\n",
    "# Print the counts\n",
    "print(f\"Number of NaN values in xC: {xC_nan_count}\")\n",
    "print(f\"Number of NaN values in yC: {yC_nan_count}\")"
   ]
  },
  {
   "cell_type": "markdown",
   "metadata": {},
   "source": [
    "How many total values are in our dataframe?"
   ]
  },
  {
   "cell_type": "code",
   "execution_count": 387,
   "metadata": {},
   "outputs": [
    {
     "data": {
      "text/plain": [
       "(90121, 49)"
      ]
     },
     "execution_count": 387,
     "metadata": {},
     "output_type": "execute_result"
    }
   ],
   "source": [
    "pbp.shape"
   ]
  },
  {
   "cell_type": "markdown",
   "metadata": {},
   "source": [
    "Getting shot angles using a function"
   ]
  },
  {
   "cell_type": "code",
   "execution_count": 388,
   "metadata": {},
   "outputs": [],
   "source": [
    "# This function calculates the angle to the center of the net at (89, 0) in radians and degrees.\n",
    "def angles(x, y):\n",
    "    num = math.sqrt(((89.0 - x) * (89.0 - x)) + ((y) * (y)))\n",
    "    if num==0:\n",
    "        radians= 0.0\n",
    "        degrees= 0.0\n",
    "    else:\n",
    "        radians = np.arcsin(y/num)\n",
    "        degrees = (radians * 180.0) / 3.14\n",
    "        \n",
    "    arr = [radians, degrees]\n",
    "    return arr"
   ]
  },
  {
   "cell_type": "markdown",
   "metadata": {},
   "source": [
    "Now using that function to place angles into dataframe and also get shot distance"
   ]
  },
  {
   "cell_type": "code",
   "execution_count": 389,
   "metadata": {},
   "outputs": [],
   "source": [
    "# Initiliaze empty columns\n",
    "pbp['shotAngle_Radians'] = ''\n",
    "pbp['shotAngle_Degrees'] = ''\n",
    "pbp['shotDistance'] = ''\n",
    "\n",
    "# Add values to columns \n",
    "for index, row in pbp.iterrows():\n",
    "    x = row['xC']\n",
    "    y = row['yC']\n",
    "    all_angles = angles(x, y)\n",
    "    pbp.at[index, 'shotAngle_Radians'] = all_angles[0]\n",
    "    pbp.at[index, 'shotAngle_Degrees'] = all_angles[1]\n",
    "    pbp.at[index, 'shotDistance'] = np.sqrt((y - 0)**2 + (x - 89.0)**2)"
   ]
  },
  {
   "cell_type": "markdown",
   "metadata": {},
   "source": [
    "Now we should have all variables, lets see if it worked"
   ]
  },
  {
   "cell_type": "code",
   "execution_count": 390,
   "metadata": {},
   "outputs": [
    {
     "data": {
      "text/html": [
       "<div>\n",
       "<style scoped>\n",
       "    .dataframe tbody tr th:only-of-type {\n",
       "        vertical-align: middle;\n",
       "    }\n",
       "\n",
       "    .dataframe tbody tr th {\n",
       "        vertical-align: top;\n",
       "    }\n",
       "\n",
       "    .dataframe thead th {\n",
       "        text-align: right;\n",
       "    }\n",
       "</style>\n",
       "<table border=\"1\" class=\"dataframe\">\n",
       "  <thead>\n",
       "    <tr style=\"text-align: right;\">\n",
       "      <th></th>\n",
       "      <th>Ev_Zone</th>\n",
       "      <th>Ev_Team</th>\n",
       "      <th>Home_Team</th>\n",
       "      <th>Away_Team</th>\n",
       "      <th>Event</th>\n",
       "      <th>awayPlayer1</th>\n",
       "      <th>awayPlayer2</th>\n",
       "      <th>awayPlayer3</th>\n",
       "      <th>homePlayer1</th>\n",
       "      <th>homePlayer2</th>\n",
       "      <th>...</th>\n",
       "      <th>Seconds_Elapsed</th>\n",
       "      <th>timeSinceLastEvent</th>\n",
       "      <th>goal</th>\n",
       "      <th>distanceFromLastEvent</th>\n",
       "      <th>Power Play</th>\n",
       "      <th>xC</th>\n",
       "      <th>yC</th>\n",
       "      <th>shotAngle_Radians</th>\n",
       "      <th>shotAngle_Degrees</th>\n",
       "      <th>shotDistance</th>\n",
       "    </tr>\n",
       "  </thead>\n",
       "  <tbody>\n",
       "    <tr>\n",
       "      <th>6</th>\n",
       "      <td>Off</td>\n",
       "      <td>T.B</td>\n",
       "      <td>T.B</td>\n",
       "      <td>NSH</td>\n",
       "      <td>SHOT</td>\n",
       "      <td>COLTON SISSONS</td>\n",
       "      <td>YAKOV TRENIN</td>\n",
       "      <td>COLE SMITH</td>\n",
       "      <td>BRAYDEN POINT</td>\n",
       "      <td>STEVEN STAMKOS</td>\n",
       "      <td>...</td>\n",
       "      <td>61.0</td>\n",
       "      <td>3.0</td>\n",
       "      <td>0</td>\n",
       "      <td>26.019224</td>\n",
       "      <td>0</td>\n",
       "      <td>44.0</td>\n",
       "      <td>-38.0</td>\n",
       "      <td>-0.70126</td>\n",
       "      <td>-40.199613</td>\n",
       "      <td>58.898217</td>\n",
       "    </tr>\n",
       "    <tr>\n",
       "      <th>40</th>\n",
       "      <td>Off</td>\n",
       "      <td>T.B</td>\n",
       "      <td>T.B</td>\n",
       "      <td>NSH</td>\n",
       "      <td>SHOT</td>\n",
       "      <td>PHILIP TOMASINO</td>\n",
       "      <td>RYAN O'REILLY</td>\n",
       "      <td>LUKE EVANGELISTA</td>\n",
       "      <td>BRAYDEN POINT</td>\n",
       "      <td>STEVEN STAMKOS</td>\n",
       "      <td>...</td>\n",
       "      <td>564.0</td>\n",
       "      <td>4.0</td>\n",
       "      <td>0</td>\n",
       "      <td>56.142675</td>\n",
       "      <td>0</td>\n",
       "      <td>55.0</td>\n",
       "      <td>30.0</td>\n",
       "      <td>0.722979</td>\n",
       "      <td>41.444676</td>\n",
       "      <td>45.343136</td>\n",
       "    </tr>\n",
       "    <tr>\n",
       "      <th>41</th>\n",
       "      <td>Off</td>\n",
       "      <td>T.B</td>\n",
       "      <td>T.B</td>\n",
       "      <td>NSH</td>\n",
       "      <td>GOAL</td>\n",
       "      <td>JUUSO PARSSINEN</td>\n",
       "      <td>RYAN O'REILLY</td>\n",
       "      <td>FILIP FORSBERG</td>\n",
       "      <td>BRAYDEN POINT</td>\n",
       "      <td>STEVEN STAMKOS</td>\n",
       "      <td>...</td>\n",
       "      <td>588.0</td>\n",
       "      <td>24.0</td>\n",
       "      <td>1</td>\n",
       "      <td>119.067208</td>\n",
       "      <td>0</td>\n",
       "      <td>64.0</td>\n",
       "      <td>34.0</td>\n",
       "      <td>0.936774</td>\n",
       "      <td>53.700398</td>\n",
       "      <td>42.201896</td>\n",
       "    </tr>\n",
       "    <tr>\n",
       "      <th>44</th>\n",
       "      <td>Neu</td>\n",
       "      <td>T.B</td>\n",
       "      <td>T.B</td>\n",
       "      <td>NSH</td>\n",
       "      <td>MISS</td>\n",
       "      <td>JUUSO PARSSINEN</td>\n",
       "      <td>RYAN O'REILLY</td>\n",
       "      <td>FILIP FORSBERG</td>\n",
       "      <td>TYLER MOTTE</td>\n",
       "      <td>ANTHONY CIRELLI</td>\n",
       "      <td>...</td>\n",
       "      <td>603.0</td>\n",
       "      <td>15.0</td>\n",
       "      <td>0</td>\n",
       "      <td>72.422372</td>\n",
       "      <td>0</td>\n",
       "      <td>69.0</td>\n",
       "      <td>22.0</td>\n",
       "      <td>0.832981</td>\n",
       "      <td>47.750518</td>\n",
       "      <td>29.732137</td>\n",
       "    </tr>\n",
       "    <tr>\n",
       "      <th>47</th>\n",
       "      <td>Off</td>\n",
       "      <td>T.B</td>\n",
       "      <td>T.B</td>\n",
       "      <td>NSH</td>\n",
       "      <td>SHOT</td>\n",
       "      <td>COLTON SISSONS</td>\n",
       "      <td>YAKOV TRENIN</td>\n",
       "      <td>COLE SMITH</td>\n",
       "      <td>LUKE GLENDENING</td>\n",
       "      <td>WALTTERI MERELA</td>\n",
       "      <td>...</td>\n",
       "      <td>615.0</td>\n",
       "      <td>9.0</td>\n",
       "      <td>0</td>\n",
       "      <td>50.009999</td>\n",
       "      <td>0</td>\n",
       "      <td>79.0</td>\n",
       "      <td>-27.0</td>\n",
       "      <td>-1.216091</td>\n",
       "      <td>-69.712204</td>\n",
       "      <td>28.79236</td>\n",
       "    </tr>\n",
       "    <tr>\n",
       "      <th>49</th>\n",
       "      <td>Off</td>\n",
       "      <td>T.B</td>\n",
       "      <td>T.B</td>\n",
       "      <td>NSH</td>\n",
       "      <td>SHOT</td>\n",
       "      <td>COLTON SISSONS</td>\n",
       "      <td>YAKOV TRENIN</td>\n",
       "      <td>COLE SMITH</td>\n",
       "      <td>LUKE GLENDENING</td>\n",
       "      <td>WALTTERI MERELA</td>\n",
       "      <td>...</td>\n",
       "      <td>637.0</td>\n",
       "      <td>19.0</td>\n",
       "      <td>0</td>\n",
       "      <td>68.883960</td>\n",
       "      <td>0</td>\n",
       "      <td>31.0</td>\n",
       "      <td>30.0</td>\n",
       "      <td>0.477345</td>\n",
       "      <td>27.363748</td>\n",
       "      <td>65.299311</td>\n",
       "    </tr>\n",
       "    <tr>\n",
       "      <th>53</th>\n",
       "      <td>Off</td>\n",
       "      <td>T.B</td>\n",
       "      <td>T.B</td>\n",
       "      <td>NSH</td>\n",
       "      <td>SHOT</td>\n",
       "      <td>CODY GLASS</td>\n",
       "      <td>GUSTAV NYQUIST</td>\n",
       "      <td>KIEFER SHERWOOD</td>\n",
       "      <td>BRAYDEN POINT</td>\n",
       "      <td>STEVEN STAMKOS</td>\n",
       "      <td>...</td>\n",
       "      <td>662.0</td>\n",
       "      <td>10.0</td>\n",
       "      <td>0</td>\n",
       "      <td>21.095023</td>\n",
       "      <td>0</td>\n",
       "      <td>69.0</td>\n",
       "      <td>-22.0</td>\n",
       "      <td>-0.832981</td>\n",
       "      <td>-47.750518</td>\n",
       "      <td>29.732137</td>\n",
       "    </tr>\n",
       "    <tr>\n",
       "      <th>57</th>\n",
       "      <td>Off</td>\n",
       "      <td>T.B</td>\n",
       "      <td>T.B</td>\n",
       "      <td>NSH</td>\n",
       "      <td>SHOT</td>\n",
       "      <td>CODY GLASS</td>\n",
       "      <td>PHILIP TOMASINO</td>\n",
       "      <td>KIEFER SHERWOOD</td>\n",
       "      <td>MICHAEL EYSSIMONT</td>\n",
       "      <td>NICHOLAS PAUL</td>\n",
       "      <td>...</td>\n",
       "      <td>693.0</td>\n",
       "      <td>23.0</td>\n",
       "      <td>0</td>\n",
       "      <td>77.278716</td>\n",
       "      <td>0</td>\n",
       "      <td>7.0</td>\n",
       "      <td>-36.0</td>\n",
       "      <td>-0.413689</td>\n",
       "      <td>-23.714668</td>\n",
       "      <td>89.554453</td>\n",
       "    </tr>\n",
       "    <tr>\n",
       "      <th>61</th>\n",
       "      <td>Off</td>\n",
       "      <td>T.B</td>\n",
       "      <td>T.B</td>\n",
       "      <td>NSH</td>\n",
       "      <td>SHOT</td>\n",
       "      <td>JUUSO PARSSINEN</td>\n",
       "      <td>RYAN O'REILLY</td>\n",
       "      <td>FILIP FORSBERG</td>\n",
       "      <td>TYLER MOTTE</td>\n",
       "      <td>ANTHONY CIRELLI</td>\n",
       "      <td>...</td>\n",
       "      <td>708.0</td>\n",
       "      <td>9.0</td>\n",
       "      <td>0</td>\n",
       "      <td>108.337436</td>\n",
       "      <td>0</td>\n",
       "      <td>69.0</td>\n",
       "      <td>-22.0</td>\n",
       "      <td>-0.832981</td>\n",
       "      <td>-47.750518</td>\n",
       "      <td>29.732137</td>\n",
       "    </tr>\n",
       "    <tr>\n",
       "      <th>68</th>\n",
       "      <td>Off</td>\n",
       "      <td>T.B</td>\n",
       "      <td>T.B</td>\n",
       "      <td>NSH</td>\n",
       "      <td>MISS</td>\n",
       "      <td>GUSTAV NYQUIST</td>\n",
       "      <td>PHILIP TOMASINO</td>\n",
       "      <td>JUUSO PARSSINEN</td>\n",
       "      <td>WALTTERI MERELA</td>\n",
       "      <td>NICHOLAS PAUL</td>\n",
       "      <td>...</td>\n",
       "      <td>795.0</td>\n",
       "      <td>6.0</td>\n",
       "      <td>0</td>\n",
       "      <td>44.000000</td>\n",
       "      <td>0</td>\n",
       "      <td>69.0</td>\n",
       "      <td>-22.0</td>\n",
       "      <td>-0.832981</td>\n",
       "      <td>-47.750518</td>\n",
       "      <td>29.732137</td>\n",
       "    </tr>\n",
       "  </tbody>\n",
       "</table>\n",
       "<p>10 rows × 23 columns</p>\n",
       "</div>"
      ],
      "text/plain": [
       "   Ev_Zone Ev_Team Home_Team Away_Team Event      awayPlayer1  \\\n",
       "6      Off     T.B       T.B       NSH  SHOT   COLTON SISSONS   \n",
       "40     Off     T.B       T.B       NSH  SHOT  PHILIP TOMASINO   \n",
       "41     Off     T.B       T.B       NSH  GOAL  JUUSO PARSSINEN   \n",
       "44     Neu     T.B       T.B       NSH  MISS  JUUSO PARSSINEN   \n",
       "47     Off     T.B       T.B       NSH  SHOT   COLTON SISSONS   \n",
       "49     Off     T.B       T.B       NSH  SHOT   COLTON SISSONS   \n",
       "53     Off     T.B       T.B       NSH  SHOT       CODY GLASS   \n",
       "57     Off     T.B       T.B       NSH  SHOT       CODY GLASS   \n",
       "61     Off     T.B       T.B       NSH  SHOT  JUUSO PARSSINEN   \n",
       "68     Off     T.B       T.B       NSH  MISS   GUSTAV NYQUIST   \n",
       "\n",
       "        awayPlayer2       awayPlayer3        homePlayer1      homePlayer2  \\\n",
       "6      YAKOV TRENIN        COLE SMITH      BRAYDEN POINT   STEVEN STAMKOS   \n",
       "40    RYAN O'REILLY  LUKE EVANGELISTA      BRAYDEN POINT   STEVEN STAMKOS   \n",
       "41    RYAN O'REILLY    FILIP FORSBERG      BRAYDEN POINT   STEVEN STAMKOS   \n",
       "44    RYAN O'REILLY    FILIP FORSBERG        TYLER MOTTE  ANTHONY CIRELLI   \n",
       "47     YAKOV TRENIN        COLE SMITH    LUKE GLENDENING  WALTTERI MERELA   \n",
       "49     YAKOV TRENIN        COLE SMITH    LUKE GLENDENING  WALTTERI MERELA   \n",
       "53   GUSTAV NYQUIST   KIEFER SHERWOOD      BRAYDEN POINT   STEVEN STAMKOS   \n",
       "57  PHILIP TOMASINO   KIEFER SHERWOOD  MICHAEL EYSSIMONT    NICHOLAS PAUL   \n",
       "61    RYAN O'REILLY    FILIP FORSBERG        TYLER MOTTE  ANTHONY CIRELLI   \n",
       "68  PHILIP TOMASINO   JUUSO PARSSINEN    WALTTERI MERELA    NICHOLAS PAUL   \n",
       "\n",
       "    ... Seconds_Elapsed timeSinceLastEvent goal  distanceFromLastEvent  \\\n",
       "6   ...            61.0                3.0    0              26.019224   \n",
       "40  ...           564.0                4.0    0              56.142675   \n",
       "41  ...           588.0               24.0    1             119.067208   \n",
       "44  ...           603.0               15.0    0              72.422372   \n",
       "47  ...           615.0                9.0    0              50.009999   \n",
       "49  ...           637.0               19.0    0              68.883960   \n",
       "53  ...           662.0               10.0    0              21.095023   \n",
       "57  ...           693.0               23.0    0              77.278716   \n",
       "61  ...           708.0                9.0    0             108.337436   \n",
       "68  ...           795.0                6.0    0              44.000000   \n",
       "\n",
       "    Power Play    xC    yC  shotAngle_Radians  shotAngle_Degrees  shotDistance  \n",
       "6            0  44.0 -38.0           -0.70126         -40.199613     58.898217  \n",
       "40           0  55.0  30.0           0.722979          41.444676     45.343136  \n",
       "41           0  64.0  34.0           0.936774          53.700398     42.201896  \n",
       "44           0  69.0  22.0           0.832981          47.750518     29.732137  \n",
       "47           0  79.0 -27.0          -1.216091         -69.712204      28.79236  \n",
       "49           0  31.0  30.0           0.477345          27.363748     65.299311  \n",
       "53           0  69.0 -22.0          -0.832981         -47.750518     29.732137  \n",
       "57           0   7.0 -36.0          -0.413689         -23.714668     89.554453  \n",
       "61           0  69.0 -22.0          -0.832981         -47.750518     29.732137  \n",
       "68           0  69.0 -22.0          -0.832981         -47.750518     29.732137  \n",
       "\n",
       "[10 rows x 23 columns]"
      ]
     },
     "execution_count": 390,
     "metadata": {},
     "output_type": "execute_result"
    }
   ],
   "source": [
    "pbp[['Ev_Zone','Ev_Team','Home_Team','Away_Team','Event', 'awayPlayer1','awayPlayer2','awayPlayer3','homePlayer1','homePlayer2','homePlayer3','Description','Strength', 'Seconds_Elapsed', 'timeSinceLastEvent','goal','distanceFromLastEvent','Power Play','xC','yC','shotAngle_Radians','shotAngle_Degrees','shotDistance']].head(10)"
   ]
  },
  {
   "cell_type": "markdown",
   "metadata": {},
   "source": [
    "Last step is to limit games to only regular season games. Last day of the regular season was 04-18. Get rid of all rows with a date after that. "
   ]
  },
  {
   "cell_type": "code",
   "execution_count": 391,
   "metadata": {},
   "outputs": [
    {
     "name": "stdout",
     "output_type": "stream",
     "text": [
      "object\n"
     ]
    }
   ],
   "source": [
    "dtype = pbp['Date'].dtype\n",
    "print(dtype)"
   ]
  },
  {
   "cell_type": "code",
   "execution_count": 392,
   "metadata": {},
   "outputs": [
    {
     "data": {
      "text/plain": [
       "445623    2024-06-24\n",
       "445626    2024-06-24\n",
       "445627    2024-06-24\n",
       "445628    2024-06-24\n",
       "445634    2024-06-24\n",
       "Name: Date, dtype: object"
      ]
     },
     "execution_count": 392,
     "metadata": {},
     "output_type": "execute_result"
    }
   ],
   "source": [
    "pbp['Date'].tail()"
   ]
  },
  {
   "cell_type": "markdown",
   "metadata": {},
   "source": [
    "Alright to accomplish getting rid of playoff data, have to convert the date column to datetime format, and then filter for rows before 2024-04-18"
   ]
  },
  {
   "cell_type": "code",
   "execution_count": 393,
   "metadata": {},
   "outputs": [],
   "source": [
    "# Convert 'date' column to datetime format\n",
    "pbp['Date'] = pd.to_datetime(pbp['Date'])\n",
    "\n",
    "# Define the cutoff date\n",
    "cutoff_date = pd.to_datetime('2024-04-18')\n",
    "\n",
    "# Filter rows where the date is after the cutoff date\n",
    "pbp = pbp[pbp['Date'] <= cutoff_date]"
   ]
  },
  {
   "cell_type": "markdown",
   "metadata": {},
   "source": [
    "Alright now to only keep the variables we want. Dropping all other columns. Then our data should be good to go for modeling!!\n",
    "\n",
    "Shot types:  'WRIST SHOT', 'TIP-IN', 'SNAP SHOT',\n",
    "       'SLAP SHOT', 'BACKHAND', 'DEFLECTED', 'WRAP-AROUND'"
   ]
  },
  {
   "cell_type": "code",
   "execution_count": 394,
   "metadata": {},
   "outputs": [],
   "source": [
    "pbp=pbp[['Ev_Zone','Ev_Team','Home_Team','Away_Team','Event', 'awayPlayer1','awayPlayer2','awayPlayer3','homePlayer1','homePlayer2','homePlayer3','Description','Strength', 'Seconds_Elapsed', 'timeSinceLastEvent','goal','distanceFromLastEvent','Power Play','xC','yC','shotAngle_Radians','shotAngle_Degrees','shotDistance','BACKHAND', 'DEFLECTED', 'SLAP SHOT', 'SNAP SHOT', 'TIP-IN', 'WRAP-AROUND', 'WRIST SHOT','Description','Type']]"
   ]
  },
  {
   "cell_type": "markdown",
   "metadata": {},
   "source": [
    "Alright, now that we got rid of a good number of columns we don't need, let's think about the problem at hand. I want to evaluate who are the best 20 forward lines in the nhl. How should I accomplish this? I think the best way from a hollistic standpoint is expected goals %. Expected Goals % is the percent of all expected goals the player's team gets while the player is on the ice compared to the other team. For example, if a player's team gets 0.6 expected goals and the opposing team gets 0.4 expected goals while the player is on the ice, the player's expected goals % is 60%. "
   ]
  },
  {
   "cell_type": "markdown",
   "metadata": {},
   "source": [
    "On MoneyPuck, an xGoals% of above 60% gets a forward line inside the top 10 (Limiting to lines who played 200 minutes or more together).An xGoals% of 50% and above gets a FL inside the top 60 lines. \n",
    "\n",
    "I also want to look at each lines expected goals against and their expected goals for, rather than the percentage of expected goal they own. An expected goals for of 28 or above gets you in the top 10, and an xG For of 20 gets you inside the top 25. \n",
    "\n",
    "For xG against, 8.5 or less gets you inside the top 10, 11 or less gets you inside the top 25. \n",
    "\n",
    "By looking at these xG for and xG against rather than xG%, I can get the best offensive forward lines and the best defensive lines."
   ]
  },
  {
   "cell_type": "markdown",
   "metadata": {},
   "source": [
    "Thus, at the very end of this project my goal is to have 3 different rankings:\n",
    "1) The best 15 lines in hockey (using xG%)\n",
    "2) The best 15 offensive lines in hockey (using xG For)\n",
    "3) The best 15 defensive lines in hockey (using xG Against)"
   ]
  },
  {
   "cell_type": "markdown",
   "metadata": {},
   "source": [
    "Step 3: Building the model and features to be passed into the model"
   ]
  },
  {
   "cell_type": "markdown",
   "metadata": {},
   "source": [
    "pbp=pbp[['Ev_Zone','Ev_Team','Home_Team','Away_Team','Event', 'awayPlayer1','awayPlayer2','awayPlayer3','homePlayer1','homePlayer2','homePlayer3','Description','Strength', 'Seconds_Elapsed', 'timeSinceLastEvent','goal','distanceFromLastEvent','Power Play','xC','yC','shotAngle_Radians','shotAngle_Degrees','shotDistance','BACKHAND', 'DEFLECTED', 'SLAP SHOT', 'SNAP SHOT', 'TIP-IN', 'WRAP-AROUND', 'WRIST SHOT','Description','Type']]"
   ]
  },
  {
   "cell_type": "markdown",
   "metadata": {},
   "source": [
    "Alright, in the expected goals model I am building, these variables will be features with variable 15 being the target:\n",
    "    1)xC\n",
    "    2)yC\n",
    "    3)BACKHAND\n",
    "    4)DEFLECTED\n",
    "    5)SLAP SHOT\n",
    "    6)SNAP SHOT\n",
    "    7)TIP-IN\n",
    "    8)WRAP-AROUND\n",
    "    9)WRIST SHOT\n",
    "    10)shotAngle_Degrees\n",
    "    11)timeSinceLastEvent\n",
    "    12)shotDistance\n",
    "    13)distanceFromLastEvent\n",
    "    14)Power Play\n",
    "\n",
    "    15)goal (Target variable)"
   ]
  },
  {
   "cell_type": "markdown",
   "metadata": {},
   "source": [
    "First step, is splitting the feature/predictor variables from the target variable"
   ]
  },
  {
   "cell_type": "code",
   "execution_count": 397,
   "metadata": {},
   "outputs": [],
   "source": [
    "X=pbp[['timeSinceLastEvent','distanceFromLastEvent','Power Play','xC','yC','shotAngle_Degrees','shotDistance','BACKHAND', 'DEFLECTED', 'SLAP SHOT', 'SNAP SHOT', 'TIP-IN', 'WRAP-AROUND', 'WRIST SHOT']]\n",
    "y=pbp.goal"
   ]
  },
  {
   "cell_type": "markdown",
   "metadata": {},
   "source": [
    "Splitting data into train and test data"
   ]
  },
  {
   "cell_type": "code",
   "execution_count": 398,
   "metadata": {},
   "outputs": [],
   "source": [
    "from sklearn.model_selection import train_test_split\n",
    "X_train, X_test, y_train,y_test= train_test_split(X,y,test_size=0.2, random_state=16)"
   ]
  },
  {
   "cell_type": "markdown",
   "metadata": {},
   "source": [
    "XGBoost Start"
   ]
  },
  {
   "cell_type": "markdown",
   "metadata": {},
   "source": [
    "First, have to create an XGBoost DMatrix since XGBoost uses its own data structure called DMatrix"
   ]
  },
  {
   "cell_type": "code",
   "execution_count": 399,
   "metadata": {},
   "outputs": [
    {
     "ename": "ValueError",
     "evalue": "DataFrame.dtypes for data must be int, float, bool or category. When categorical type is supplied, the experimental DMatrix parameter`enable_categorical` must be set to `True`.  Invalid columns:shotAngle_Degrees: object, shotDistance: object",
     "output_type": "error",
     "traceback": [
      "\u001b[1;31m---------------------------------------------------------------------------\u001b[0m",
      "\u001b[1;31mValueError\u001b[0m                                Traceback (most recent call last)",
      "Cell \u001b[1;32mIn[399], line 1\u001b[0m\n\u001b[1;32m----> 1\u001b[0m dtrain \u001b[38;5;241m=\u001b[39m \u001b[43mxgb\u001b[49m\u001b[38;5;241;43m.\u001b[39;49m\u001b[43mDMatrix\u001b[49m\u001b[43m(\u001b[49m\u001b[43mX_train\u001b[49m\u001b[43m,\u001b[49m\u001b[43m \u001b[49m\u001b[43mlabel\u001b[49m\u001b[38;5;241;43m=\u001b[39;49m\u001b[43my_train\u001b[49m\u001b[43m)\u001b[49m\n\u001b[0;32m      2\u001b[0m dtest \u001b[38;5;241m=\u001b[39m xgb\u001b[38;5;241m.\u001b[39mDMatrix(X_test, label\u001b[38;5;241m=\u001b[39my_test)\n",
      "File \u001b[1;32mc:\\Data Science Practice\\penv\\lib\\site-packages\\xgboost\\core.py:726\u001b[0m, in \u001b[0;36mrequire_keyword_args.<locals>.throw_if.<locals>.inner_f\u001b[1;34m(*args, **kwargs)\u001b[0m\n\u001b[0;32m    724\u001b[0m \u001b[38;5;28;01mfor\u001b[39;00m k, arg \u001b[38;5;129;01min\u001b[39;00m \u001b[38;5;28mzip\u001b[39m(sig\u001b[38;5;241m.\u001b[39mparameters, args):\n\u001b[0;32m    725\u001b[0m     kwargs[k] \u001b[38;5;241m=\u001b[39m arg\n\u001b[1;32m--> 726\u001b[0m \u001b[38;5;28;01mreturn\u001b[39;00m func(\u001b[38;5;241m*\u001b[39m\u001b[38;5;241m*\u001b[39mkwargs)\n",
      "File \u001b[1;32mc:\\Data Science Practice\\penv\\lib\\site-packages\\xgboost\\core.py:878\u001b[0m, in \u001b[0;36mDMatrix.__init__\u001b[1;34m(self, data, label, weight, base_margin, missing, silent, feature_names, feature_types, nthread, group, qid, label_lower_bound, label_upper_bound, feature_weights, enable_categorical, data_split_mode)\u001b[0m\n\u001b[0;32m    875\u001b[0m     \u001b[38;5;28;01massert\u001b[39;00m \u001b[38;5;28mself\u001b[39m\u001b[38;5;241m.\u001b[39mhandle \u001b[38;5;129;01mis\u001b[39;00m \u001b[38;5;129;01mnot\u001b[39;00m \u001b[38;5;28;01mNone\u001b[39;00m\n\u001b[0;32m    876\u001b[0m     \u001b[38;5;28;01mreturn\u001b[39;00m\n\u001b[1;32m--> 878\u001b[0m handle, feature_names, feature_types \u001b[38;5;241m=\u001b[39m \u001b[43mdispatch_data_backend\u001b[49m\u001b[43m(\u001b[49m\n\u001b[0;32m    879\u001b[0m \u001b[43m    \u001b[49m\u001b[43mdata\u001b[49m\u001b[43m,\u001b[49m\n\u001b[0;32m    880\u001b[0m \u001b[43m    \u001b[49m\u001b[43mmissing\u001b[49m\u001b[38;5;241;43m=\u001b[39;49m\u001b[38;5;28;43mself\u001b[39;49m\u001b[38;5;241;43m.\u001b[39;49m\u001b[43mmissing\u001b[49m\u001b[43m,\u001b[49m\n\u001b[0;32m    881\u001b[0m \u001b[43m    \u001b[49m\u001b[43mthreads\u001b[49m\u001b[38;5;241;43m=\u001b[39;49m\u001b[38;5;28;43mself\u001b[39;49m\u001b[38;5;241;43m.\u001b[39;49m\u001b[43mnthread\u001b[49m\u001b[43m,\u001b[49m\n\u001b[0;32m    882\u001b[0m \u001b[43m    \u001b[49m\u001b[43mfeature_names\u001b[49m\u001b[38;5;241;43m=\u001b[39;49m\u001b[43mfeature_names\u001b[49m\u001b[43m,\u001b[49m\n\u001b[0;32m    883\u001b[0m \u001b[43m    \u001b[49m\u001b[43mfeature_types\u001b[49m\u001b[38;5;241;43m=\u001b[39;49m\u001b[43mfeature_types\u001b[49m\u001b[43m,\u001b[49m\n\u001b[0;32m    884\u001b[0m \u001b[43m    \u001b[49m\u001b[43menable_categorical\u001b[49m\u001b[38;5;241;43m=\u001b[39;49m\u001b[43menable_categorical\u001b[49m\u001b[43m,\u001b[49m\n\u001b[0;32m    885\u001b[0m \u001b[43m    \u001b[49m\u001b[43mdata_split_mode\u001b[49m\u001b[38;5;241;43m=\u001b[39;49m\u001b[43mdata_split_mode\u001b[49m\u001b[43m,\u001b[49m\n\u001b[0;32m    886\u001b[0m \u001b[43m\u001b[49m\u001b[43m)\u001b[49m\n\u001b[0;32m    887\u001b[0m \u001b[38;5;28;01massert\u001b[39;00m handle \u001b[38;5;129;01mis\u001b[39;00m \u001b[38;5;129;01mnot\u001b[39;00m \u001b[38;5;28;01mNone\u001b[39;00m\n\u001b[0;32m    888\u001b[0m \u001b[38;5;28mself\u001b[39m\u001b[38;5;241m.\u001b[39mhandle \u001b[38;5;241m=\u001b[39m handle\n",
      "File \u001b[1;32mc:\\Data Science Practice\\penv\\lib\\site-packages\\xgboost\\data.py:1223\u001b[0m, in \u001b[0;36mdispatch_data_backend\u001b[1;34m(data, missing, threads, feature_names, feature_types, enable_categorical, data_split_mode)\u001b[0m\n\u001b[0;32m   1221\u001b[0m     data \u001b[38;5;241m=\u001b[39m pd\u001b[38;5;241m.\u001b[39mDataFrame(data)\n\u001b[0;32m   1222\u001b[0m \u001b[38;5;28;01mif\u001b[39;00m _is_pandas_df(data):\n\u001b[1;32m-> 1223\u001b[0m     \u001b[38;5;28;01mreturn\u001b[39;00m \u001b[43m_from_pandas_df\u001b[49m\u001b[43m(\u001b[49m\n\u001b[0;32m   1224\u001b[0m \u001b[43m        \u001b[49m\u001b[43mdata\u001b[49m\u001b[43m,\u001b[49m\n\u001b[0;32m   1225\u001b[0m \u001b[43m        \u001b[49m\u001b[43menable_categorical\u001b[49m\u001b[43m,\u001b[49m\n\u001b[0;32m   1226\u001b[0m \u001b[43m        \u001b[49m\u001b[43mmissing\u001b[49m\u001b[43m,\u001b[49m\n\u001b[0;32m   1227\u001b[0m \u001b[43m        \u001b[49m\u001b[43mthreads\u001b[49m\u001b[43m,\u001b[49m\n\u001b[0;32m   1228\u001b[0m \u001b[43m        \u001b[49m\u001b[43mfeature_names\u001b[49m\u001b[43m,\u001b[49m\n\u001b[0;32m   1229\u001b[0m \u001b[43m        \u001b[49m\u001b[43mfeature_types\u001b[49m\u001b[43m,\u001b[49m\n\u001b[0;32m   1230\u001b[0m \u001b[43m        \u001b[49m\u001b[43mdata_split_mode\u001b[49m\u001b[43m,\u001b[49m\n\u001b[0;32m   1231\u001b[0m \u001b[43m    \u001b[49m\u001b[43m)\u001b[49m\n\u001b[0;32m   1232\u001b[0m \u001b[38;5;28;01mif\u001b[39;00m _is_cudf_df(data) \u001b[38;5;129;01mor\u001b[39;00m _is_cudf_ser(data):\n\u001b[0;32m   1233\u001b[0m     \u001b[38;5;28;01mreturn\u001b[39;00m _from_cudf_df(\n\u001b[0;32m   1234\u001b[0m         data, missing, threads, feature_names, feature_types, enable_categorical\n\u001b[0;32m   1235\u001b[0m     )\n",
      "File \u001b[1;32mc:\\Data Science Practice\\penv\\lib\\site-packages\\xgboost\\data.py:640\u001b[0m, in \u001b[0;36m_from_pandas_df\u001b[1;34m(data, enable_categorical, missing, nthread, feature_names, feature_types, data_split_mode)\u001b[0m\n\u001b[0;32m    631\u001b[0m \u001b[38;5;28;01mdef\u001b[39;00m \u001b[38;5;21m_from_pandas_df\u001b[39m(\n\u001b[0;32m    632\u001b[0m     data: DataFrame,\n\u001b[0;32m    633\u001b[0m     enable_categorical: \u001b[38;5;28mbool\u001b[39m,\n\u001b[1;32m   (...)\u001b[0m\n\u001b[0;32m    638\u001b[0m     data_split_mode: DataSplitMode \u001b[38;5;241m=\u001b[39m DataSplitMode\u001b[38;5;241m.\u001b[39mROW,\n\u001b[0;32m    639\u001b[0m ) \u001b[38;5;241m-\u001b[39m\u001b[38;5;241m>\u001b[39m DispatchedDataBackendReturnType:\n\u001b[1;32m--> 640\u001b[0m     df, feature_names, feature_types \u001b[38;5;241m=\u001b[39m \u001b[43m_transform_pandas_df\u001b[49m\u001b[43m(\u001b[49m\n\u001b[0;32m    641\u001b[0m \u001b[43m        \u001b[49m\u001b[43mdata\u001b[49m\u001b[43m,\u001b[49m\u001b[43m \u001b[49m\u001b[43menable_categorical\u001b[49m\u001b[43m,\u001b[49m\u001b[43m \u001b[49m\u001b[43mfeature_names\u001b[49m\u001b[43m,\u001b[49m\u001b[43m \u001b[49m\u001b[43mfeature_types\u001b[49m\n\u001b[0;32m    642\u001b[0m \u001b[43m    \u001b[49m\u001b[43m)\u001b[49m\n\u001b[0;32m    644\u001b[0m     handle \u001b[38;5;241m=\u001b[39m ctypes\u001b[38;5;241m.\u001b[39mc_void_p()\n\u001b[0;32m    645\u001b[0m     _check_call(\n\u001b[0;32m    646\u001b[0m         _LIB\u001b[38;5;241m.\u001b[39mXGDMatrixCreateFromColumnar(\n\u001b[0;32m    647\u001b[0m             df\u001b[38;5;241m.\u001b[39marray_interface(),\n\u001b[1;32m   (...)\u001b[0m\n\u001b[0;32m    652\u001b[0m         )\n\u001b[0;32m    653\u001b[0m     )\n",
      "File \u001b[1;32mc:\\Data Science Practice\\penv\\lib\\site-packages\\xgboost\\data.py:603\u001b[0m, in \u001b[0;36m_transform_pandas_df\u001b[1;34m(data, enable_categorical, feature_names, feature_types, meta)\u001b[0m\n\u001b[0;32m    596\u001b[0m \u001b[38;5;28;01mdef\u001b[39;00m \u001b[38;5;21m_transform_pandas_df\u001b[39m(\n\u001b[0;32m    597\u001b[0m     data: DataFrame,\n\u001b[0;32m    598\u001b[0m     enable_categorical: \u001b[38;5;28mbool\u001b[39m,\n\u001b[1;32m   (...)\u001b[0m\n\u001b[0;32m    601\u001b[0m     meta: Optional[\u001b[38;5;28mstr\u001b[39m] \u001b[38;5;241m=\u001b[39m \u001b[38;5;28;01mNone\u001b[39;00m,\n\u001b[0;32m    602\u001b[0m ) \u001b[38;5;241m-\u001b[39m\u001b[38;5;241m>\u001b[39m Tuple[PandasTransformed, Optional[FeatureNames], Optional[FeatureTypes]]:\n\u001b[1;32m--> 603\u001b[0m     \u001b[43mpandas_check_dtypes\u001b[49m\u001b[43m(\u001b[49m\u001b[43mdata\u001b[49m\u001b[43m,\u001b[49m\u001b[43m \u001b[49m\u001b[43menable_categorical\u001b[49m\u001b[43m)\u001b[49m\n\u001b[0;32m    604\u001b[0m     \u001b[38;5;28;01mif\u001b[39;00m meta \u001b[38;5;129;01mand\u001b[39;00m \u001b[38;5;28mlen\u001b[39m(data\u001b[38;5;241m.\u001b[39mcolumns) \u001b[38;5;241m>\u001b[39m \u001b[38;5;241m1\u001b[39m \u001b[38;5;129;01mand\u001b[39;00m meta \u001b[38;5;129;01mnot\u001b[39;00m \u001b[38;5;129;01min\u001b[39;00m _matrix_meta:\n\u001b[0;32m    605\u001b[0m         \u001b[38;5;28;01mraise\u001b[39;00m \u001b[38;5;167;01mValueError\u001b[39;00m(\u001b[38;5;124mf\u001b[39m\u001b[38;5;124m\"\u001b[39m\u001b[38;5;124mDataFrame for \u001b[39m\u001b[38;5;132;01m{\u001b[39;00mmeta\u001b[38;5;132;01m}\u001b[39;00m\u001b[38;5;124m cannot have multiple columns\u001b[39m\u001b[38;5;124m\"\u001b[39m)\n",
      "File \u001b[1;32mc:\\Data Science Practice\\penv\\lib\\site-packages\\xgboost\\data.py:569\u001b[0m, in \u001b[0;36mpandas_check_dtypes\u001b[1;34m(data, enable_categorical)\u001b[0m\n\u001b[0;32m    562\u001b[0m \u001b[38;5;28;01mfor\u001b[39;00m dtype \u001b[38;5;129;01min\u001b[39;00m data\u001b[38;5;241m.\u001b[39mdtypes:\n\u001b[0;32m    563\u001b[0m     \u001b[38;5;28;01mif\u001b[39;00m \u001b[38;5;129;01mnot\u001b[39;00m (\n\u001b[0;32m    564\u001b[0m         (dtype\u001b[38;5;241m.\u001b[39mname \u001b[38;5;129;01min\u001b[39;00m _pandas_dtype_mapper)\n\u001b[0;32m    565\u001b[0m         \u001b[38;5;129;01mor\u001b[39;00m is_pd_sparse_dtype(dtype)\n\u001b[0;32m    566\u001b[0m         \u001b[38;5;129;01mor\u001b[39;00m (is_pd_cat_dtype(dtype) \u001b[38;5;129;01mand\u001b[39;00m enable_categorical)\n\u001b[0;32m    567\u001b[0m         \u001b[38;5;129;01mor\u001b[39;00m is_pa_ext_dtype(dtype)\n\u001b[0;32m    568\u001b[0m     ):\n\u001b[1;32m--> 569\u001b[0m         \u001b[43m_invalid_dataframe_dtype\u001b[49m\u001b[43m(\u001b[49m\u001b[43mdata\u001b[49m\u001b[43m)\u001b[49m\n\u001b[0;32m    571\u001b[0m     \u001b[38;5;28;01mif\u001b[39;00m is_pd_sparse_dtype(dtype):\n\u001b[0;32m    572\u001b[0m         sparse_extension \u001b[38;5;241m=\u001b[39m \u001b[38;5;28;01mTrue\u001b[39;00m\n",
      "File \u001b[1;32mc:\\Data Science Practice\\penv\\lib\\site-packages\\xgboost\\data.py:356\u001b[0m, in \u001b[0;36m_invalid_dataframe_dtype\u001b[1;34m(data)\u001b[0m\n\u001b[0;32m    354\u001b[0m type_err \u001b[38;5;241m=\u001b[39m \u001b[38;5;124m\"\u001b[39m\u001b[38;5;124mDataFrame.dtypes for data must be int, float, bool or category.\u001b[39m\u001b[38;5;124m\"\u001b[39m\n\u001b[0;32m    355\u001b[0m msg \u001b[38;5;241m=\u001b[39m \u001b[38;5;124mf\u001b[39m\u001b[38;5;124m\"\"\"\u001b[39m\u001b[38;5;132;01m{\u001b[39;00mtype_err\u001b[38;5;132;01m}\u001b[39;00m\u001b[38;5;124m \u001b[39m\u001b[38;5;132;01m{\u001b[39;00m_ENABLE_CAT_ERR\u001b[38;5;132;01m}\u001b[39;00m\u001b[38;5;124m \u001b[39m\u001b[38;5;132;01m{\u001b[39;00merr\u001b[38;5;132;01m}\u001b[39;00m\u001b[38;5;124m\"\"\"\u001b[39m\n\u001b[1;32m--> 356\u001b[0m \u001b[38;5;28;01mraise\u001b[39;00m \u001b[38;5;167;01mValueError\u001b[39;00m(msg)\n",
      "\u001b[1;31mValueError\u001b[0m: DataFrame.dtypes for data must be int, float, bool or category. When categorical type is supplied, the experimental DMatrix parameter`enable_categorical` must be set to `True`.  Invalid columns:shotAngle_Degrees: object, shotDistance: object"
     ]
    }
   ],
   "source": [
    "dtrain = xgb.DMatrix(X_train, label=y_train)\n",
    "dtest = xgb.DMatrix(X_test, label=y_test)"
   ]
  },
  {
   "cell_type": "markdown",
   "metadata": {},
   "source": [
    "Now, set the parameters for the XGBoost Model"
   ]
  },
  {
   "cell_type": "code",
   "execution_count": null,
   "metadata": {},
   "outputs": [],
   "source": [
    "params = {\n",
    "    'objective': 'binary:logistic',  # For probability output\n",
    "    'eval_metric': 'auc',  # Evaluation metric for binary classification\n",
    "    'max_depth': 4,  # Maximum depth of a tree\n",
    "    'eta': 0.1,  # Learning rate\n",
    "    'subsample': 0.8,  # Subsample ratio of the training instances\n",
    "    'colsample_bytree': 0.8  # Subsample ratio of columns when constructing each tree\n",
    "}"
   ]
  },
  {
   "cell_type": "markdown",
   "metadata": {},
   "source": [
    "Use CV to figure out the optimal number of boosting rounds to avoid overfitting"
   ]
  },
  {
   "cell_type": "code",
   "execution_count": null,
   "metadata": {},
   "outputs": [],
   "source": [
    "cv_results = xgb.cv(\n",
    "    params,\n",
    "    dtrain,\n",
    "    num_boost_round=1000,  # A large number of rounds, allowing early stopping to decide\n",
    "    nfold=5,  # 5-fold cross-validation\n",
    "    metrics={'auc'},\n",
    "    early_stopping_rounds=10,  # Stop if no improvement for 10 rounds\n",
    "    seed=42\n",
    ")\n"
   ]
  },
  {
   "cell_type": "code",
   "execution_count": null,
   "metadata": {},
   "outputs": [],
   "source": [
    "num_rounds=cv_results.shape[0]\n",
    "num_rounds"
   ]
  },
  {
   "cell_type": "markdown",
   "metadata": {},
   "source": [
    "Now train the model"
   ]
  },
  {
   "cell_type": "code",
   "execution_count": null,
   "metadata": {},
   "outputs": [],
   "source": [
    "bst = xgb.train(params, dtrain, num_rounds)"
   ]
  },
  {
   "cell_type": "code",
   "execution_count": null,
   "metadata": {},
   "outputs": [],
   "source": [
    "y_XGBoost_pred=bst.predict(dtest)\n",
    "y_XGBoost_pred"
   ]
  },
  {
   "cell_type": "markdown",
   "metadata": {},
   "source": [
    "Evaluating the model"
   ]
  },
  {
   "cell_type": "code",
   "execution_count": null,
   "metadata": {},
   "outputs": [],
   "source": [
    "# ROC AUC score\n",
    "roc_auc = roc_auc_score(y_test, y_XGBoost_pred)\n",
    "print(f'ROC AUC: {roc_auc}')"
   ]
  },
  {
   "cell_type": "code",
   "execution_count": null,
   "metadata": {},
   "outputs": [],
   "source": [
    "#Feature importance\n",
    "from sklearn.inspection import permutation_importance\n",
    "feature_importance = bst.get_score(importance_type='weight')\n",
    "\n",
    "# Convert to array for plotting\n",
    "sorted_idx = np.argsort(list(feature_importance.values()))\n",
    "fig = plt.figure(figsize=(12, 6))\n",
    "plt.barh(range(len(sorted_idx)), np.array(list(feature_importance.values()))[sorted_idx], align='center')\n",
    "plt.yticks(range(len(sorted_idx)), np.array(list(feature_importance.keys()))[sorted_idx])\n",
    "plt.title('Feature Importance')\n",
    "plt.show()"
   ]
  },
  {
   "cell_type": "markdown",
   "metadata": {},
   "source": [
    "Once Model is built, then since we are trying to find best forward lines, Group by player1, player2, player3. Sum their expected goals. Take top 15."
   ]
  }
 ],
 "metadata": {
  "kernelspec": {
   "display_name": "penv",
   "language": "python",
   "name": "python3"
  },
  "language_info": {
   "codemirror_mode": {
    "name": "ipython",
    "version": 3
   },
   "file_extension": ".py",
   "mimetype": "text/x-python",
   "name": "python",
   "nbconvert_exporter": "python",
   "pygments_lexer": "ipython3",
   "version": "3.10.11"
  }
 },
 "nbformat": 4,
 "nbformat_minor": 2
}
